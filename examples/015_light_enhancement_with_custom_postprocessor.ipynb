{
 "cells": [
  {
   "cell_type": "markdown",
   "id": "cae9e004",
   "metadata": {},
   "source": [
    "# Low light Image enhancement \n",
    "In this notebook, we illustrate the use of the Zero-dce model for low light image enhancement using custom postprocessor with DeGirum PySDK"
   ]
  },
  {
   "cell_type": "markdown",
   "id": "a5571366",
   "metadata": {},
   "source": [
    "### Define custom postprocessor"
   ]
  },
  {
   "cell_type": "code",
   "execution_count": null,
   "id": "4f982fd9",
   "metadata": {},
   "outputs": [],
   "source": [
    "from degirum.postprocessor import InferenceResults\n",
    "from degirum._model_param_helpers import model_shape_get\n",
    "import numpy as np\n",
    "import cv2\n",
    "\n",
    "class EnhancementPostprocessor(InferenceResults):\n",
    "    \"\"\"Post‑processor that converts a flattened RGB tensor `(1, H×W, 3)`\n",
    "    produced by low‑light enhancement models into a displayable `uint8` BGR image.\n",
    "\n",
    "    After construction:\n",
    "    * ``self._enhanced_image`` holds the processed frame (OpenCV format).\n",
    "    * ``self._inference_results`` is replaced with a one‑liner metadata dict.\n",
    "    * ``image`` and ``image_overlay`` both return the enhanced image so the usual\n",
    "      SDK viewers work out of the box.\n",
    "    \"\"\"\n",
    "    def __init__(self, *args, **kwargs):\n",
    "        super().__init__(*args, **kwargs)\n",
    "\n",
    "        try:\n",
    "            raw_tensor = np.asarray(self._inference_results[0][\"data\"], dtype=np.float32)\n",
    "        except Exception as e:  # pragma: no cover – developer mistake guard\n",
    "            raise RuntimeError(\n",
    "                \"EnhancementPostprocessor expects inference_results[0]['data'] to \"\n",
    "                \"contain the flat output tensor.  Didn't find it: \" + str(e)\n",
    "            ) from e\n",
    "\n",
    "        raw_tensor = raw_tensor.squeeze(0)\n",
    "\n",
    "        try:\n",
    "            # InputShape is typically (1, C, H, W) or (1, H, W, C)\n",
    "            _, H, W, _ = model_shape_get(self._model_params, 0, 4)\n",
    "        except Exception:\n",
    "            H, W = 400, 600  # Zero‑DCE reference resolution\n",
    "\n",
    "        if raw_tensor.shape[0] != H * W:\n",
    "            raise ValueError(\n",
    "                f\"Flat tensor length {raw_tensor.shape[0]} does not match H×W \"\n",
    "                f\"({H}×{W}={H*W}).  Check model output/shape assumptions.\"\n",
    "            )\n",
    "\n",
    "        img = raw_tensor.reshape(H, W, 3)       \n",
    "        self._enhanced_image = cv2.cvtColor(img, cv2.COLOR_RGB2BGR)\n",
    "        self._inference_results = [\n",
    "            {\n",
    "                \"category_id\": 0,\n",
    "                \"label\": \"enhanced_frame\",\n",
    "                \"score\": 1.0,\n",
    "            }\n",
    "        ]\n",
    "\n",
    "    @property\n",
    "    def image(self):\n",
    "        \"\"\"Return the post‑processed frame.\"\"\"\n",
    "        return self._enhanced_image\n",
    "\n",
    "    @property\n",
    "    def image_overlay(self):  # no overlay drawing needed\n",
    "        return self._enhanced_image\n",
    "\n"
   ]
  },
  {
   "cell_type": "code",
   "execution_count": null,
   "id": "c6f36a34",
   "metadata": {},
   "outputs": [],
   "source": [
    "import degirum as dg\n",
    "import cv2\n",
    "\n",
    "inference_host_address = \"@local\"\n",
    "zoo_url = '../models'\n",
    "token=''\n",
    "device_type='HAILORT/HAILO8'\n",
    "model_name = 'zero_dce--400x600_quant_hailo_hailo8_1'\n",
    "\n",
    "model = dg.load_model(\n",
    "    model_name=model_name,\n",
    "    inference_host_address=inference_host_address,\n",
    "    zoo_url=zoo_url,\n",
    "    token=token,\n",
    "    device_type=device_type,\n",
    "    custom_postprocessor= EnhancementPostprocessor, # Custom postprocessor\n",
    ")\n",
    "\n",
    "\n",
    "# Load an image\n",
    "enh_inf = model('../assets/dark_room.jpg')\n",
    "\n",
    "# Save image overlay output\n",
    "enhanced_frame = enh_inf.image_overlay if hasattr(enh_inf, \"image_overlay\") else enh_inf.image\n",
    "cv2.imwrite(\"enhanced_image.jpg\", enhanced_frame)\n",
    "print(\"Enhanced image saved as 'enhanced_image.jpg'\")"
   ]
  }
 ],
 "metadata": {
  "kernelspec": {
   "display_name": "darshil_kernel",
   "language": "python",
   "name": "darshil_kernel"
  },
  "language_info": {
   "codemirror_mode": {
    "name": "ipython",
    "version": 3
   },
   "file_extension": ".py",
   "mimetype": "text/x-python",
   "name": "python",
   "nbconvert_exporter": "python",
   "pygments_lexer": "ipython3",
   "version": "3.8.10"
  }
 },
 "nbformat": 4,
 "nbformat_minor": 5
}
