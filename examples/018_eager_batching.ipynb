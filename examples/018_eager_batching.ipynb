{
 "cells": [
  {
   "cell_type": "markdown",
   "id": "3b3324b0",
   "metadata": {},
   "source": [
    "## Understanding Eager Batching on Hailo devices with DeGirum PySDK"
   ]
  },
  {
   "cell_type": "markdown",
   "id": "94934cdd",
   "metadata": {},
   "source": [
    "This guide demonstrates how **eager batching** affects inference performance on Hailo-8 and Hailo-8L devices using the DeGirum PySDK. It walks through live benchmarks comparing different models and batching strategies. **Eager batching** in DeGirum PySDK queues multiple inference requests and sends them to the accelerator as a batch. This can improve inference throughput—**but only for multi-context models**.\n"
   ]
  },
  {
   "cell_type": "markdown",
   "id": "458aa4e0",
   "metadata": {},
   "source": [
    "#### Understanding Context Size\n",
    "\n",
    "In Hailo's architecture, **context size** refers to how many model instances (contexts) can be concurrently loaded into the accelerator:\n",
    "\n",
    "- **Single-context models**: Fully fit into Hailo's memory. Adding batching doesn’t improve performance because the model already saturates the accelerator.\n",
    "  \n",
    "- **Multi-context models**: Too large to fit completely, so Hailo divides execution across contexts. Batching allows better hardware utilization and **can significantly improve FPS**.\n"
   ]
  },
  {
   "cell_type": "markdown",
   "id": "d0dbaafd",
   "metadata": {},
   "source": [
    "## What This Guide Demonstrates\n",
    "\n",
    "We run two models:\n",
    "- A **YOLOv8n object detection model** (context = 1)\n",
    "- A **YOLOv8m object detection model** (context > 1)\n",
    "\n",
    "Each is evaluated under:\n",
    "- `eager_batch_size = 1` (no batching)\n",
    "- `eager_batch_size = 8` (batched)\n",
    "\n",
    "We measure **frames per second (FPS)** using PySDK and visualize the results.\n"
   ]
  },
  {
   "cell_type": "markdown",
   "id": "46b38e5c",
   "metadata": {},
   "source": [
    "## Installation & imports"
   ]
  },
  {
   "cell_type": "code",
   "execution_count": 5,
   "id": "0323a95c",
   "metadata": {},
   "outputs": [
    {
     "name": "stdout",
     "output_type": "stream",
     "text": [
      "Requirement already satisfied: degirum in /home/degirum/python312env/lib/python3.12/site-packages (0.17.0)\n",
      "Collecting degirum\n",
      "  Downloading degirum-0.17.1-cp312-cp312-manylinux_2_31_x86_64.whl.metadata (1.2 kB)\n",
      "Requirement already satisfied: pyzmq>=26.1 in /home/degirum/python312env/lib/python3.12/site-packages (from degirum) (26.2.0)\n",
      "Requirement already satisfied: psutil>=6.0 in /home/degirum/python312env/lib/python3.12/site-packages (from degirum) (6.1.1)\n",
      "Requirement already satisfied: pyseccomp>=0.1 in /home/degirum/python312env/lib/python3.12/site-packages (from degirum) (0.1.2)\n",
      "Requirement already satisfied: msgpack<2.0,>=1.0.4 in /home/degirum/python312env/lib/python3.12/site-packages (from degirum) (1.1.0)\n",
      "Requirement already satisfied: msgpack-numpy==0.4.7.1 in /home/degirum/python312env/lib/python3.12/site-packages (from degirum) (0.4.7.1)\n",
      "Requirement already satisfied: numpy<2.0,>=1.22 in /home/degirum/python312env/lib/python3.12/site-packages (from degirum) (1.26.4)\n",
      "Requirement already satisfied: opencv-python<5.0,>=4.6 in /home/degirum/python312env/lib/python3.12/site-packages (from degirum) (4.10.0.84)\n",
      "Requirement already satisfied: pillow<11.0,>=9.2 in /home/degirum/python312env/lib/python3.12/site-packages (from degirum) (10.4.0)\n",
      "Requirement already satisfied: python-socketio<6.0,>=5.7 in /home/degirum/python312env/lib/python3.12/site-packages (from python-socketio[client]<6.0,>=5.7->degirum) (5.11.4)\n",
      "Requirement already satisfied: pyyaml<7.0,>=6.0 in /home/degirum/python312env/lib/python3.12/site-packages (from degirum) (6.0.2)\n",
      "Requirement already satisfied: types-PyYAML<7.0,>=6.0 in /home/degirum/python312env/lib/python3.12/site-packages (from degirum) (6.0.12.20241230)\n",
      "Requirement already satisfied: requests<3.0,>=2.30.0 in /home/degirum/python312env/lib/python3.12/site-packages (from degirum) (2.32.3)\n",
      "Requirement already satisfied: types-requests<3.0,>=2.30.0 in /home/degirum/python312env/lib/python3.12/site-packages (from degirum) (2.32.0.20241016)\n",
      "Requirement already satisfied: websocket-client<2.0,>=1.5.1 in /home/degirum/python312env/lib/python3.12/site-packages (from degirum) (1.8.0)\n",
      "Requirement already satisfied: typing-extensions<5.0,>=4.12.0 in /home/degirum/python312env/lib/python3.12/site-packages (from degirum) (4.12.2)\n",
      "Requirement already satisfied: bidict>=0.21.0 in /home/degirum/python312env/lib/python3.12/site-packages (from python-socketio<6.0,>=5.7->python-socketio[client]<6.0,>=5.7->degirum) (0.23.1)\n",
      "Requirement already satisfied: python-engineio>=4.8.0 in /home/degirum/python312env/lib/python3.12/site-packages (from python-socketio<6.0,>=5.7->python-socketio[client]<6.0,>=5.7->degirum) (4.10.1)\n",
      "Requirement already satisfied: charset-normalizer<4,>=2 in /home/degirum/python312env/lib/python3.12/site-packages (from requests<3.0,>=2.30.0->degirum) (3.4.1)\n",
      "Requirement already satisfied: idna<4,>=2.5 in /home/degirum/python312env/lib/python3.12/site-packages (from requests<3.0,>=2.30.0->degirum) (3.10)\n",
      "Requirement already satisfied: urllib3<3,>=1.21.1 in /home/degirum/python312env/lib/python3.12/site-packages (from requests<3.0,>=2.30.0->degirum) (2.3.0)\n",
      "Requirement already satisfied: certifi>=2017.4.17 in /home/degirum/python312env/lib/python3.12/site-packages (from requests<3.0,>=2.30.0->degirum) (2024.12.14)\n",
      "Requirement already satisfied: simple-websocket>=0.10.0 in /home/degirum/python312env/lib/python3.12/site-packages (from python-engineio>=4.8.0->python-socketio<6.0,>=5.7->python-socketio[client]<6.0,>=5.7->degirum) (1.1.0)\n",
      "Requirement already satisfied: wsproto in /home/degirum/python312env/lib/python3.12/site-packages (from simple-websocket>=0.10.0->python-engineio>=4.8.0->python-socketio<6.0,>=5.7->python-socketio[client]<6.0,>=5.7->degirum) (1.2.0)\n",
      "Requirement already satisfied: h11<1,>=0.9.0 in /home/degirum/python312env/lib/python3.12/site-packages (from wsproto->simple-websocket>=0.10.0->python-engineio>=4.8.0->python-socketio<6.0,>=5.7->python-socketio[client]<6.0,>=5.7->degirum) (0.14.0)\n",
      "Downloading degirum-0.17.1-cp312-cp312-manylinux_2_31_x86_64.whl (20.6 MB)\n",
      "\u001b[2K   \u001b[90m━━━━━━━━━━━━━━━━━━━━━━━━━━━━━━━━━━━━━━━━\u001b[0m \u001b[32m20.6/20.6 MB\u001b[0m \u001b[31m11.5 MB/s\u001b[0m eta \u001b[36m0:00:00\u001b[0ma \u001b[36m0:00:01\u001b[0m\n",
      "\u001b[?25hInstalling collected packages: degirum\n",
      "  Attempting uninstall: degirum\n",
      "    Found existing installation: degirum 0.17.0\n",
      "    Uninstalling degirum-0.17.0:\n",
      "      Successfully uninstalled degirum-0.17.0\n",
      "Successfully installed degirum-0.17.1\n",
      "\n",
      "\u001b[1m[\u001b[0m\u001b[34;49mnotice\u001b[0m\u001b[1;39;49m]\u001b[0m\u001b[39;49m A new release of pip is available: \u001b[0m\u001b[31;49m25.0\u001b[0m\u001b[39;49m -> \u001b[0m\u001b[32;49m25.1.1\u001b[0m\n",
      "\u001b[1m[\u001b[0m\u001b[34;49mnotice\u001b[0m\u001b[1;39;49m]\u001b[0m\u001b[39;49m To update, run: \u001b[0m\u001b[32;49mpip install --upgrade pip\u001b[0m\n"
     ]
    }
   ],
   "source": [
    "!pip install -U degirum "
   ]
  },
  {
   "cell_type": "code",
   "execution_count": 1,
   "id": "851936b4",
   "metadata": {},
   "outputs": [],
   "source": [
    "import degirum as dg\n",
    "import degirum_tools"
   ]
  },
  {
   "cell_type": "markdown",
   "id": "6d554561",
   "metadata": {},
   "source": [
    "## Load the model"
   ]
  },
  {
   "cell_type": "code",
   "execution_count": 14,
   "id": "0213888b",
   "metadata": {},
   "outputs": [],
   "source": [
    "iterations = 1000\n",
    "model_zoo = 'degirum/hailo'\n",
    "inference_host_address = '@local'\n",
    "single_context_model = 'yolov8n_coco--640x640_quant_hailort_hailo8_1'\n",
    "multi_context_model = 'yolov8m_coco--640x640_quant_hailort_hailo8_1'\n",
    "token = ''"
   ]
  },
  {
   "cell_type": "markdown",
   "id": "3c4c1b04",
   "metadata": {},
   "source": [
    "## Eager batching on single context model"
   ]
  },
  {
   "cell_type": "markdown",
   "id": "fcc5e0c8",
   "metadata": {},
   "source": [
    "#### batch size = 1"
   ]
  },
  {
   "cell_type": "code",
   "execution_count": 15,
   "id": "0a1ca588",
   "metadata": {},
   "outputs": [
    {
     "name": "stdout",
     "output_type": "stream",
     "text": [
      "Running with batch size - 1, Observed FPS: 318.95\n"
     ]
    }
   ],
   "source": [
    "# Load the model\n",
    "model = dg.load_model(\n",
    "    model_name=single_context_model,\n",
    "    inference_host_address=inference_host_address,\n",
    "    zoo_url=\"https://hub.degirum.com/degirum/hailo\",\n",
    "    eager_batch_size=1,  # Set eager batch size to 1 for single context model\n",
    ")\n",
    "\n",
    "# Turn off C++-based post-processing (Does not affect models with a 'PythonFile' python-based postprocessor!)\n",
    "model.output_postprocess_type = \"None\"\n",
    "\n",
    "single_context_bs_1_results = degirum_tools.model_time_profile(model, iterations)\n",
    "print(f\"Running with batch size - {str(model._model_parameters.EagerBatchSize)}, Observed FPS: {single_context_bs_1_results.observed_fps:5.2f}\")"
   ]
  },
  {
   "cell_type": "markdown",
   "id": "92a595fe",
   "metadata": {},
   "source": [
    "#### batch size 8"
   ]
  },
  {
   "cell_type": "code",
   "execution_count": 16,
   "id": "bcf33c59",
   "metadata": {},
   "outputs": [
    {
     "name": "stdout",
     "output_type": "stream",
     "text": [
      "Running with batch size - 8, Observed FPS: 318.57\n"
     ]
    }
   ],
   "source": [
    "# Load the model\n",
    "model = dg.load_model(\n",
    "    model_name=single_context_model,\n",
    "    inference_host_address=inference_host_address,\n",
    "    zoo_url=\"https://hub.degirum.com/degirum/hailo\",\n",
    "    eager_batch_size=8,  # Set eager batch size to 8 for single context model\n",
    ")\n",
    "\n",
    "# Turn off C++-based post-processing (Does not affect models with a 'PythonFile' python-based postprocessor!)\n",
    "model.output_postprocess_type = \"None\"\n",
    "\n",
    "single_context_bs_8_results = degirum_tools.model_time_profile(model, iterations)\n",
    "print(f\"Running with batch size - {str(model._model_parameters.EagerBatchSize)}, Observed FPS: {single_context_bs_8_results.observed_fps:5.2f}\")"
   ]
  },
  {
   "cell_type": "markdown",
   "id": "2a0270bd",
   "metadata": {},
   "source": [
    "### Visualise the results for single context model"
   ]
  },
  {
   "cell_type": "code",
   "execution_count": 18,
   "id": "19ff874d",
   "metadata": {},
   "outputs": [
    {
     "data": {
      "image/png": "[encoded data removed]",
      "text/plain": [
       "<Figure size 640x480 with 1 Axes>"
      ]
     },
     "metadata": {},
     "output_type": "display_data"
    }
   ],
   "source": [
    "import matplotlib.pyplot as plt\n",
    "\n",
    "\n",
    "# Labels and data\n",
    "labels = ['FPS - bs 1', 'FPS - bs 8']\n",
    "values = [single_context_bs_1_results.observed_fps, single_context_bs_8_results.observed_fps]\n",
    "\n",
    "# Plotting\n",
    "plt.bar(labels, values, color=['blue', 'orange'])\n",
    "\n",
    "# Customizing\n",
    "plt.ylabel('FPS')\n",
    "plt.title('Impact of batch size on single context model')\n",
    "\n",
    "# Show plot\n",
    "plt.show()\n"
   ]
  },
  {
   "cell_type": "markdown",
   "id": "9fca6f61",
   "metadata": {},
   "source": [
    "## Eager batching on multi context model"
   ]
  },
  {
   "cell_type": "markdown",
   "id": "2410506b",
   "metadata": {},
   "source": [
    "#### batch size 1"
   ]
  },
  {
   "cell_type": "code",
   "execution_count": 19,
   "id": "18e8d4c6",
   "metadata": {},
   "outputs": [
    {
     "name": "stdout",
     "output_type": "stream",
     "text": [
      "Running with batch size - 1, Observed FPS: 50.70\n"
     ]
    }
   ],
   "source": [
    "# Load the model\n",
    "model_a = dg.load_model(\n",
    "    model_name=multi_context_model,\n",
    "    inference_host_address=inference_host_address,\n",
    "    zoo_url=\"https://hub.degirum.com/degirum/hailo\",\n",
    "    eager_batch_size=1 # Set eager batch size to 1 for multi context model\n",
    ")\n",
    "\n",
    "# Turn off C++-based post-processing (Does not affect models with a 'PythonFile' python-based postprocessor!)\n",
    "model_a.output_postprocess_type = \"None\"\n",
    "\n",
    "multi_context_bs_1_results = degirum_tools.model_time_profile(model_a, iterations)\n",
    "print(f\"Running with batch size - {str(model_a._model_parameters.EagerBatchSize)}, Observed FPS: {multi_context_bs_1_results.observed_fps:5.2f}\")"
   ]
  },
  {
   "cell_type": "markdown",
   "id": "78019008",
   "metadata": {},
   "source": [
    "#### batch size 8"
   ]
  },
  {
   "cell_type": "code",
   "execution_count": 20,
   "id": "59db9354",
   "metadata": {},
   "outputs": [
    {
     "name": "stdout",
     "output_type": "stream",
     "text": [
      "Running with batch size - 8, Observed FPS: 102.13\n"
     ]
    }
   ],
   "source": [
    "# Load the model\n",
    "model_b = dg.load_model(\n",
    "    model_name=multi_context_model,\n",
    "    inference_host_address=inference_host_address,\n",
    "    zoo_url=\"https://hub.degirum.com/degirum/hailo\",\n",
    "    eager_batch_size=8  # Set eager batch size to 8 for multi context model \n",
    ")\n",
    "\n",
    "\n",
    "# Turn off C++-based post-processing (Does not affect models with a 'PythonFile' python-based postprocessor!)\n",
    "model_b.output_postprocess_type = \"None\"\n",
    "\n",
    "multi_context_bs_8_results = degirum_tools.model_time_profile(model_b, iterations)\n",
    "print(f\"Running with batch size - {str(model_b._model_parameters.EagerBatchSize)}, Observed FPS: {multi_context_bs_8_results.observed_fps:5.2f}\")"
   ]
  },
  {
   "cell_type": "markdown",
   "id": "2be10733",
   "metadata": {},
   "source": [
    "### Visualise the results for multi context models"
   ]
  },
  {
   "cell_type": "code",
   "execution_count": 21,
   "id": "c76f52da",
   "metadata": {},
   "outputs": [
    {
     "data": {
      "image/png": "[encoded data removed]",
      "text/plain": [
       "<Figure size 640x480 with 1 Axes>"
      ]
     },
     "metadata": {},
     "output_type": "display_data"
    }
   ],
   "source": [
    "import matplotlib.pyplot as plt\n",
    "\n",
    "# Labels and data\n",
    "labels = ['FPS - bs 1', 'FPS - bs 8']\n",
    "values = [multi_context_bs_1_results.observed_fps, multi_context_bs_8_results.observed_fps]\n",
    "\n",
    "# Plotting\n",
    "plt.bar(labels, values, color=['blue', 'orange'])\n",
    "\n",
    "# Customizing\n",
    "plt.ylabel('FPS')\n",
    "plt.title('Impact of batch size on multi-context model')\n",
    "\n",
    "# Show plot\n",
    "plt.show()"
   ]
  },
  {
   "cell_type": "markdown",
   "id": "9d88eb1d",
   "metadata": {},
   "source": [
    "## Conclusion\n",
    "\n",
    "Eager batching can significantly improve inference performance on Hailo devices—but only for models that use multiple contexts due to their larger size. For smaller models that fully utilize the accelerator memory, batching adds no benefit and may introduce unnecessary latency. By understanding model context and evaluating FPS under different batch sizes, you can make informed decisions to optimize throughput based on your specific use case.\n"
   ]
  },
  {
   "cell_type": "code",
   "execution_count": null,
   "id": "99abf370-806d-4162-b486-403e5dd4263c",
   "metadata": {},
   "outputs": [],
   "source": []
  }
 ],
 "metadata": {
  "kernelspec": {
   "display_name": "Python (python312env)",
   "language": "python",
   "name": "python312env"
  },
  "language_info": {
   "codemirror_mode": {
    "name": "ipython",
    "version": 3
   },
   "file_extension": ".py",
   "mimetype": "text/x-python",
   "name": "python",
   "nbconvert_exporter": "python",
   "pygments_lexer": "ipython3",
   "version": "3.12.3"
  }
 },
 "nbformat": 4,
 "nbformat_minor": 5
}
