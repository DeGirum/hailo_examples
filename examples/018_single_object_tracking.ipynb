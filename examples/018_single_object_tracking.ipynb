{
 "cells": [
  {
   "cell_type": "markdown",
   "id": "7b8f3dc7-2d1c-4925-afd0-13aef2e18b6a",
   "metadata": {},
   "source": [
    "## Single Object Tracking\n",
    "\n",
    "This notebook is an example of how to perform a single object detection and tracking with DeGirum PySDK.\n",
    "This single object tracking (SOT) also enables users interactively select an object using just a mouse click to track in the video stream. The selected object is highlighted using a bounding box and pose keypoints."
   ]
  },
  {
   "cell_type": "code",
   "execution_count": null,
   "id": "96d7a603-2881-46ab-9dea-f2b26fba89d7",
   "metadata": {},
   "outputs": [],
   "source": [
    "import cv2\n",
    "import degirum as dg, degirum_tools\n",
    "from degirum_tools.video_support import get_video_stream_properties\n",
    "\n",
    "\n",
    "inference_host_address = \"@local\"\n",
    "zoo_url = \"degirum/hailo\"\n",
    "token = ''\n",
    "device_type = \"HAILORT/HAILO8\"\n",
    "\n",
    "video_source = \"https://raw.githubusercontent.com/DeGirum/PySDKExamples/main/images/WalkingPeople2.mp4\"\n",
    "display_name = \"Object Selector Example\"\n",
    "\n",
    "person_det_model_name = \"yolov8n_relu6_coco_pose--640x640_quant_hailort_hailo8_1\"\n",
    "\n",
    "# Load person/pose detection model\n",
    "person_det_model = dg.load_model(\n",
    "    model_name = person_det_model_name,\n",
    "    inference_host_address=inference_host_address,\n",
    "    zoo_url=zoo_url,\n",
    "    token=token,\n",
    "    device_type=device_type,\n",
    "    overlay_line_width=1\n",
    ")"
   ]
  },
  {
   "cell_type": "code",
   "execution_count": null,
   "id": "93a64097-5fa4-4cde-ae0b-6fe2ddd557d8",
   "metadata": {},
   "outputs": [],
   "source": [
    "# create a context to store detections and selected track_id\n",
    "context = dict(detections=None, track_id=None)\n",
    "\n",
    "\n",
    "def point_in_rect(x, y, rect):\n",
    "    \"\"\"Check if point (x, y) is inside rectangle [x1, y1, x2, y2].\"\"\"\n",
    "    x1, y1, x2, y2 = rect\n",
    "    return x1 <= x <= x2 and y1 <= y <= y2\n",
    "\n",
    "\n",
    "def is_object_selected(obj, result):\n",
    "    \"\"\"Return 1 when object has track_id matching the context, otherwise return 0.\"\"\"\n",
    "    # store detections in context for use in mouse callback\n",
    "    context[\"detections\"] = result.results\n",
    "    sel_track_id = context.get(\"track_id\")\n",
    "    track_id = obj.get(\"track_id\")\n",
    "    return int(\n",
    "        sel_track_id is not None and track_id is not None and track_id == sel_track_id\n",
    "    )\n",
    "\n",
    "\n",
    "def mouse_callback(event: int, x: int, y: int, flags: int, context: dict):\n",
    "    \"\"\"Mouse callback to set the context for object selection\"\"\"\n",
    "    if event == cv2.EVENT_LBUTTONDOWN:\n",
    "        detections = context.get(\"detections\")\n",
    "        if detections is not None:\n",
    "            # look for the object that contains clicked point\n",
    "            for obj in detections:\n",
    "                # check if the clicked point is inside the bounding box of the object\n",
    "                track_id = obj.get(\"track_id\")\n",
    "                if track_id is not None and point_in_rect(x, y, obj[\"bbox\"]):\n",
    "                    # if so, remember the track_id in context\n",
    "                    context[\"track_id\"] = track_id\n",
    "                    break\n",
    "            else:\n",
    "                context[\"track_id\"] = None"
   ]
  },
  {
   "cell_type": "code",
   "execution_count": null,
   "id": "3cb53686-91c6-4939-a5b7-450e770e16b9",
   "metadata": {},
   "outputs": [],
   "source": [
    "\n",
    "# create object tracker analyzer to track objects\n",
    "tracker = degirum_tools.ObjectTracker(\n",
    "    track_thresh=0.35, #Detection confidence threshold for initiating a new track.\n",
    "    match_thresh=0.9999, #Intersection-over-union (IoU) threshold for matching detections to existing tracks.\n",
    "    anchor_point=degirum_tools.AnchorPoint.CENTER, #Anchor point on the bounding box used for trail visualization.\n",
    "    show_overlay=False,\n",
    ")\n",
    "\n",
    "# create object selector analyzer to select clicked person\n",
    "selector = degirum_tools.ObjectSelector(\n",
    "    top_k=0,\n",
    "    selection_strategy=degirum_tools.ObjectSelectionStrategies.CUSTOM_METRIC,\n",
    "    # use custom metric to select the object of interest: object with highest metric value is selected\n",
    "    custom_metric=is_object_selected,\n",
    "    metric_threshold=0.5,  #Metric value threshold: if top_k is zero, objects with metric value higher than this threshold are selected. Default 0.\n",
    "    use_tracking=False,\n",
    "    show_overlay=False,\n",
    ")\n",
    "\n",
    "# attach object tracker and object selector analyzers to person detection model\n",
    "degirum_tools.attach_analyzers(person_det_model, [tracker, selector])"
   ]
  },
  {
   "cell_type": "markdown",
   "id": "1399a84e-1074-440b-8f4b-fce2f380ccd1",
   "metadata": {},
   "source": [
    "### Video Inference"
   ]
  },
  {
   "cell_type": "code",
   "execution_count": null,
   "id": "714313f8-a6b1-4fa5-ba8d-2849dbab848c",
   "metadata": {},
   "outputs": [],
   "source": [
    "# open display window\n",
    "with degirum_tools.Display(display_name) as display:\n",
    "    # perform streaming inference on video source\n",
    "    for i, result in enumerate(\n",
    "        degirum_tools.predict_stream(person_det_model, video_source)\n",
    "    ):\n",
    "        # show the result on the display\n",
    "        display.show(result)\n",
    "        # set mouse callback only once and only when the display is opened\n",
    "        if i == 0:\n",
    "            cv2.setMouseCallback(display_name, mouse_callback, context)"
   ]
  }
 ],
 "metadata": {
  "kernelspec": {
   "display_name": "Python 3 (ipykernel)",
   "language": "python",
   "name": "python3"
  },
  "language_info": {
   "codemirror_mode": {
    "name": "ipython",
    "version": 3
   },
   "file_extension": ".py",
   "mimetype": "text/x-python",
   "name": "python",
   "nbconvert_exporter": "python",
   "pygments_lexer": "ipython3",
   "version": "3.11.2"
  }
 },
 "nbformat": 4,
 "nbformat_minor": 5
}
