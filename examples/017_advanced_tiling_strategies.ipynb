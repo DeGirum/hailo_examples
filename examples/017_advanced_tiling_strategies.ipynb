{
  "cells": [
    {
      "cell_type": "markdown",
      "metadata": {
        "id": "xMgQBq4Ly6ky"
      },
      "source": [
        "## Advanced Tiling Strategies using DeGirum PySDK\n",
        "This notebook is an example of how to perform advanced tiling using DeGirum PySDK on Hailo hardware. The advanced tiling\n",
        "strategies are used to mitigate partial/duplicate/overlapping objects introduced by tiling an image for\n",
        "object detection. Four different detection merging strategies are demonstrated.\n",
        "\n",
        "This script works with the following inference options:\n",
        "\n",
        "1. Run inference on DeGirum Hailo accelerator directly installed on your computer;\n",
        "2. Run inference on DeGirum AI Server deployed on a localhost or on some computer in your LAN or VPN;\n",
        "3. Run inference on DeGirum Cloud Platform.\n",
        "\n",
        "To try different options, you need to specify the appropriate `hw_location` option.\n",
        "\n",
        "You can change `image_source` to a URL or path to another image file."
      ]
    },
    {
      "cell_type": "code",
      "execution_count": null,
      "metadata": {
        "colab": {
          "base_uri": "https://localhost:8080/"
        },
        "collapsed": true,
        "id": "CjuX9upGy6k0",
        "outputId": "c5a19cb4-59f2-4ec3-da98-1196f851c647"
      },
      "outputs": [],
      "source": [
        "# make sure degirum-tools package is installed\n",
        "!pip show degirum-tools || pip install degirum-tools"
      ]
    },
    {
      "cell_type": "markdown",
      "metadata": {
        "id": "XuE65Tjuy6k3"
      },
      "source": [
        "# Overview of tiling strategies\n",
        "degirum_tools comes with four different tiling strategies. The base TileModel simply recombines all detections from each tile and subsequently performs NMS. The LocalGlobalTileModel performs an inference on all tiles and the whole image and selects detections from the tiles or the whole image based on a large object threshold. The BoxFusionTileModel fuses split detections that are detected on the edges of tiles based on a one dimensional IoU threshold. The BoxFusionLocalGlobalTileModel combines the former two strategies.\n",
        "\n",
        "The base tiling strategy improves the mAP of small objects at the expense of large objects. By incorporating the LocalGlobal strategy, it is possible to recapture the mAP lost from tiling. The BoxFusion strategy gives modest gains in mAP across all object sizes due to relatively fewer detections occuring on edges/corners of tiles."
      ]
    },
    {
      "cell_type": "code",
      "execution_count": null,
      "metadata": {
        "id": "pYZzysnTy6k3"
      },
      "outputs": [],
      "source": [
        "# hw_location: where you want to run inference\n",
        "#     \"@cloud\" to use DeGirum cloud\n",
        "#     \"@local\" to run on local hailo device\n",
        "#     IP address for AI server inference\n",
        "# image_source: video source for inference\n",
        "#     camera index for local camera\n",
        "#     URL of RTSP stream\n",
        "#     URL of YouTube Video\n",
        "#     path to image file\n",
        "# model_name: name of the model for running AI inference\n",
        "# model_zoo_url: url/path for model zoo\n",
        "#     cloud_zoo_url: valid for @cloud, @local, and ai server inference options\n",
        "#     '': ai server serving models from local folder\n",
        "#     path to json file: single model zoo in case of @local inference\n",
        "# class_set: whitelist for classes to detect\n",
        "# yolo11n_visdrone_person--640x640_quant_hailort_multidevice_1\n",
        "# /yolo11n_visdrone_person--640x640_quant_hailort_multidevice_1\n",
        "inference_host_address = \"@local\"\n",
        "zoo_url = \"degirum/models_hailort\"\n",
        "token = \"\"\n",
        "model_name = 'yolo11n_visdrone_person--640x640_quant_hailort_multidevice_1'\n",
        "image_source = 'assets/drone_pedestrain.jpg'\n",
        "class_set = {\"pedestrian\", \"people\"}"
      ]
    },
    {
      "cell_type": "markdown",
      "metadata": {
        "id": "KLE41tfSy6k4"
      },
      "source": [
        "#### The rest of the cells below should run without any modifications"
      ]
    },
    {
      "cell_type": "code",
      "execution_count": null,
      "metadata": {
        "id": "lz1yuJdhy6k4"
      },
      "outputs": [],
      "source": [
        "# imports and variables used in most cells\n",
        "import degirum as dg\n",
        "import degirum_tools as dgt\n",
        "\n",
        "from degirum_tools.tile_compound_models import TileExtractorPseudoModel, TileModel, LocalGlobalTileModel, BoxFusionTileModel, BoxFusionLocalGlobalTileModel\n",
        "from degirum_tools import NmsBoxSelectionPolicy, NmsOptions\n",
        "\n",
        "# Base NMS options.\n",
        "nms_options = NmsOptions(\n",
        "    threshold=0.6,\n",
        "    use_iou=True,\n",
        "    box_select=NmsBoxSelectionPolicy.MOST_PROBABLE,\n",
        ")"
      ]
    },
    {
      "cell_type": "markdown",
      "metadata": {
        "id": "3bCEnT7by6k5"
      },
      "source": [
        "## No tiling example"
      ]
    },
    {
      "cell_type": "code",
      "execution_count": null,
      "metadata": {
        "colab": {
          "base_uri": "https://localhost:8080/",
          "height": 758
        },
        "id": "qpPu89j2y6k5",
        "outputId": "f460013e-d671-4596-9337-75a391c19a6d"
      },
      "outputs": [],
      "source": [
        "# Load model to be used for tiling\n",
        "# load AI model\n",
        "model = dg.load_model(\n",
        "    model_name=model_name,\n",
        "    inference_host_address=inference_host_address,\n",
        "    zoo_url=zoo_url,\n",
        "    token=token,\n",
        "    image_backend='pil')\n",
        "\n",
        "model.output_class_set = class_set  # filter class outputs\n",
        "\n",
        "results = model(image_source)\n",
        "results.image_overlay"
      ]
    },
    {
      "cell_type": "markdown",
      "metadata": {
        "id": "4WUppxV2y6k5"
      },
      "source": [
        "The following examples all are tiled with 3 columns, 2 rows, and a 10% overlap minimum between each tile."
      ]
    },
    {
      "cell_type": "markdown",
      "metadata": {
        "id": "JGSvue0cy6k5"
      },
      "source": [
        "## Base TileModel example"
      ]
    },
    {
      "cell_type": "code",
      "execution_count": null,
      "metadata": {
        "colab": {
          "base_uri": "https://localhost:8080/",
          "height": 758
        },
        "id": "cvxnsvPRy6k5",
        "outputId": "b0fc3675-181d-45ea-dc89-48aa807c634e"
      },
      "outputs": [],
      "source": [
        "tile_extractor = TileExtractorPseudoModel(cols=3,\n",
        "                                          rows=2,\n",
        "                                          overlap_percent=0.1,\n",
        "                                          model2=model,\n",
        "                                          global_tile=False)\n",
        "tile_model = TileModel(model1=tile_extractor,\n",
        "                       model2=model,\n",
        "                       nms_options=nms_options)\n",
        "results = tile_model(image_source)\n",
        "results.image_overlay"
      ]
    },
    {
      "cell_type": "markdown",
      "metadata": {
        "id": "IOl8KGfSy6k6"
      },
      "source": [
        "## LocalGlobalTileModel example"
      ]
    },
    {
      "cell_type": "code",
      "execution_count": null,
      "metadata": {
        "colab": {
          "base_uri": "https://localhost:8080/",
          "height": 1000
        },
        "id": "flnLMLeEy6k6",
        "outputId": "bc9196f8-5faa-4206-b983-643096397a59"
      },
      "outputs": [],
      "source": [
        "tile_extractor = TileExtractorPseudoModel(cols=3,\n",
        "                                          rows=2,\n",
        "                                          overlap_percent=0.1,\n",
        "                                          model2=model,\n",
        "                                          global_tile=True)\n",
        "tile_model = LocalGlobalTileModel(model1=tile_extractor,\n",
        "                                  model2=model,\n",
        "                                  large_object_threshold=0.01,\n",
        "                                  nms_options=nms_options)\n",
        "results = tile_model(image_source)\n",
        "results.image_overlay"
      ]
    },
    {
      "cell_type": "markdown",
      "metadata": {
        "id": "iIiDEO16y6k6"
      },
      "source": [
        "## BoxFusionTileModel example"
      ]
    },
    {
      "cell_type": "code",
      "execution_count": null,
      "metadata": {
        "colab": {
          "base_uri": "https://localhost:8080/",
          "height": 758
        },
        "id": "f6hcUajvy6k6",
        "outputId": "c3dcd090-a11a-4f3d-e679-c78b852ab492"
      },
      "outputs": [],
      "source": [
        "tile_extractor = TileExtractorPseudoModel(cols=3,\n",
        "                                          rows=2,\n",
        "                                          overlap_percent=0.1,\n",
        "                                          model2=model,\n",
        "                                          global_tile=False)\n",
        "tile_model = BoxFusionTileModel(model1=tile_extractor,\n",
        "                                model2=model,\n",
        "                                edge_threshold=0.02,\n",
        "                                fusion_threshold=0.8)\n",
        "results = tile_model(image_source)\n",
        "results.image_overlay"
      ]
    },
    {
      "cell_type": "markdown",
      "metadata": {
        "id": "kzGeY7uny6k6"
      },
      "source": [
        "## BoxFusionLocalGlobalTileModel example"
      ]
    },
    {
      "cell_type": "code",
      "execution_count": null,
      "metadata": {
        "id": "UXilPnhIy6k6"
      },
      "outputs": [],
      "source": [
        "tile_extractor = TileExtractorPseudoModel(cols=3,\n",
        "                                          rows=2,\n",
        "                                          overlap_percent=0.1,\n",
        "                                          model2=model,\n",
        "                                          global_tile=True)\n",
        "tile_model = BoxFusionLocalGlobalTileModel(model1=tile_extractor,\n",
        "                                           model2=model,\n",
        "                                           large_object_threshold=0.01,\n",
        "                                           edge_threshold=0.02,\n",
        "                                           fusion_threshold=0.8,\n",
        "                                           nms_options=nms_options)\n",
        "results = tile_model(image_source)\n",
        "results.image_overlay"
      ]
    },
    {
      "cell_type": "code",
      "execution_count": null,
      "metadata": {
        "id": "GYGnHMOB2RBo"
      },
      "outputs": [],
      "source": []
    }
  ],
  "metadata": {
    "colab": {
      "provenance": []
    },
    "kernelspec": {
      "display_name": "dgenv",
      "language": "python",
      "name": "python3"
    },
    "language_info": {
      "codemirror_mode": {
        "name": "ipython",
        "version": 3
      },
      "file_extension": ".py",
      "mimetype": "text/x-python",
      "name": "python",
      "nbconvert_exporter": "python",
      "pygments_lexer": "ipython3",
      "version": "3.12.4"
    }
  },
  "nbformat": 4,
  "nbformat_minor": 0
}
