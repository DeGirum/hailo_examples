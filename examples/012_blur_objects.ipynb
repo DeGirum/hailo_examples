{
  "nbformat": 4,
  "nbformat_minor": 0,
  "metadata": {
    "colab": {
      "provenance": []
    },
    "kernelspec": {
      "name": "python3",
      "display_name": "Python 3"
    },
    "language_info": {
      "name": "python"
    }
  },
  "cells": [
    {
      "cell_type": "markdown",
      "source": [
        "# Blur objects using PYSDK\n",
        "blur all or specific class from object detection results using PYSDK\n"
      ],
      "metadata": {
        "id": "Yf3GO_kgql69"
      }
    },
    {
      "cell_type": "code",
      "execution_count": null,
      "metadata": {
        "id": "jzm7_DZFp1ss"
      },
      "outputs": [],
      "source": [
        "# make sure degirum package is installed\n",
        "!pip show degirum || pip install degirum\n",
        "!pip install degirum_tools"
      ]
    },
    {
      "cell_type": "code",
      "source": [
        "hw_location = \"@cloud\"\n",
        "model_zoo_url = \"degirum/public\"\n",
        "model_name = \"mobilenet_v2_ssd_coco--300x300_quant_n2x_orca1_1\"\n",
        "image_source = \"https://raw.githubusercontent.com/DeGirum/PySDKExamples/main/images/TwoCats.jpg\"\n",
        "degirum_cloud_token = \"dg_HVW6WKDH2YzmEonMbMibNJKkZJkXpKsLyHRdE\""
      ],
      "metadata": {
        "id": "D7TCAXbhp5AR"
      },
      "execution_count": null,
      "outputs": []
    },
    {
      "cell_type": "code",
      "source": [
        "import degirum as dg         # import DeGirum PySDK package\n",
        "import degirum_tools\n",
        "# load mobilenet model from deGirum's public model zoo to run in the cloud\n",
        "model = dg.load_model(\n",
        "    model_name = \"yolov8n_coco--640x640_quant_hailort_hailo8_1\",\n",
        "    inference_host_address = dg.CLOUD,\n",
        "    zoo_url = \"degirum/hailo\",\n",
        "    token = degirum_cloud_token,\n",
        "    image_backend='pil', overlay_blur = \"person\"\n",
        ")\n",
        "\n",
        "result = model(\"../assets/car_and_person.jpg\")\n"
      ],
      "metadata": {
        "id": "_kMd2FQjqCqk"
      },
      "execution_count": null,
      "outputs": []
    },
    {
      "cell_type": "code",
      "source": [
        "result"
      ],
      "metadata": {
        "id": "xH70oQncqLIh"
      },
      "execution_count": null,
      "outputs": []
    },
    {
      "cell_type": "code",
      "source": [
        "\n",
        "with degirum_tools.Display() as display:\n",
        "    display.show_image(result.image_overlay)"
      ],
      "metadata": {
        "id": "vOQpXN_xqdBp"
      },
      "execution_count": null,
      "outputs": []
    },
    {
      "cell_type": "code",
      "source": [],
      "metadata": {
        "id": "t1AeyDQQqdpR"
      },
      "execution_count": null,
      "outputs": []
    }
  ]
}