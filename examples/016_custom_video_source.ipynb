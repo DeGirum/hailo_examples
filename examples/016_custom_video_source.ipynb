{
 "cells": [
  {
   "cell_type": "markdown",
   "id": "1439f55f",
   "metadata": {},
   "source": [
    "## Feed custom video source to `predict_batch` to DeGirum PySDK\n",
    "\n",
    "This guide is for developers who want to learn how to configure a custom video generator and feed it to DeGirum PySDK to use it for model predictions. In this guide, we will walk you through the steps on creating your own custom video generator and pass it to model object's `predict_batch` function to perform prediction over it.\n"
   ]
  },
  {
   "cell_type": "markdown",
   "id": "26778cfb",
   "metadata": {},
   "source": [
    "### Simple predictions on video stream \n",
    "\n",
    "To begin with, lets take a look at how to run predictions on a simple video stream as is. For this, we will start with a simple frame generator function as below:"
   ]
  },
  {
   "cell_type": "code",
   "execution_count": 18,
   "id": "66b619d7",
   "metadata": {},
   "outputs": [],
   "source": [
    "# Define generator function to produce video frames\n",
    "def frame_source(stream):\n",
    "    while True:\n",
    "      ret, frame = stream.read()\n",
    "      if not ret:\n",
    "         break # end of file\n",
    "      yield frame"
   ]
  },
  {
   "cell_type": "markdown",
   "id": "9755e75a",
   "metadata": {},
   "source": [
    "We use this function to pass it to our `predict_batch` function as below:"
   ]
  },
  {
   "cell_type": "code",
   "execution_count": 19,
   "id": "0f8b6950",
   "metadata": {},
   "outputs": [],
   "source": [
    "for result in model.predict_batch(frame_source(stream)):\n",
    "    # Print raw results for each frame\n",
    "    print(result)\n"
   ]
  },
  {
   "cell_type": "markdown",
   "id": "d6bc2d2e",
   "metadata": {},
   "source": [
    "Putting it all together, lets run inference of a video source using simple video generator and `predict_batch` function:"
   ]
  },
  {
   "cell_type": "code",
   "execution_count": null,
   "id": "35ced13d",
   "metadata": {},
   "outputs": [],
   "source": [
    "import degirum as dg\n",
    "import cv2\n",
    "\n",
    "# Declaring variables\n",
    "# Set your model, inference host address, model zoo, and token in these variables.\n",
    "your_model_name = \"model-name\"\n",
    "your_host_address = \"@local\" # Can be dg.CLOUD, host:port, or dg.LOCAL\n",
    "your_model_zoo = \"degirum/hailo\"\n",
    "your_token = \"<token>\"\n",
    "\n",
    "# Specify the video you will run inference on\n",
    "your_video = \"path/video.mp4\"\n",
    "\n",
    "# Loading a model\n",
    "model = dg.load_model(\n",
    "    model_name = your_model_name, \n",
    "    inference_host_address = your_host_address, \n",
    "    zoo_url = your_model_zoo, \n",
    "    token = your_token \n",
    "    # optional parameters, such as overlay_show_probabilities = True\n",
    ")\n",
    "\n",
    "# Open your video file\n",
    "stream = cv2.VideoCapture(your_video) \n",
    "\n",
    "# Define generator function to produce video frames\n",
    "def frame_source(stream):\n",
    "    while True:\n",
    "      ret, frame = stream.read()\n",
    "      if not ret:\n",
    "         break # end of file\n",
    "      yield frame\n",
    "\n",
    "# Run predict_batch on stream of frames from video file\n",
    "for result in model.predict_batch(frame_source(stream)):\n",
    "    # Print raw results for each frame\n",
    "    print(result)\n",
    "\n",
    "# Release stream\n",
    "stream.release()"
   ]
  },
  {
   "cell_type": "markdown",
   "id": "4ecfb655",
   "metadata": {},
   "source": [
    "#### Modify video generator to use webcam or Rpi stream\n",
    "\n",
    "In order to use webcam or an Rpi stream as video source, we will just modify our video source_path as below:"
   ]
  },
  {
   "cell_type": "markdown",
   "id": "9dae0509",
   "metadata": {},
   "source": [
    "##### Webcam input"
   ]
  },
  {
   "cell_type": "code",
   "execution_count": null,
   "id": "c9a11375",
   "metadata": {},
   "outputs": [],
   "source": [
    "import degirum as dg\n",
    "import cv2\n",
    "\n",
    "# Declaring variables\n",
    "# Set your model, inference host address, model zoo, and token in these variables.\n",
    "your_model_name = \"model-name\"\n",
    "your_host_address = \"@local\" # Can be dg.CLOUD, host:port, or dg.LOCAL\n",
    "your_model_zoo = \"degirum/hailo\"\n",
    "your_token = \"<token>\"\n",
    "\n",
    "\n",
    "# Loading a model\n",
    "model = dg.load_model(\n",
    "    model_name = your_model_name, \n",
    "    inference_host_address = your_host_address, \n",
    "    zoo_url = your_model_zoo, \n",
    "    token = your_token \n",
    "    # optional parameters, such as overlay_show_probabilities = True\n",
    ")\n",
    "\n",
    "# Open your video file\n",
    "stream = cv2.VideoCapture(0) # Webcam source : 0 \n",
    "\n",
    "# Define generator function to produce video frames\n",
    "def frame_source(stream):\n",
    "    while True:\n",
    "      ret, frame = stream.read()\n",
    "      if not ret:\n",
    "         break # end of file\n",
    "      yield frame\n",
    "\n",
    "# Run predict_batch on stream of frames from video file\n",
    "for result in model.predict_batch(frame_source(stream)):\n",
    "    # Print raw results for each frame\n",
    "    print(result)\n",
    "\n",
    "# Release stream\n",
    "stream.release()"
   ]
  },
  {
   "cell_type": "markdown",
   "id": "708e10c9",
   "metadata": {},
   "source": [
    "#### Rpi Camera using PiCamera Module\n",
    "Similar to above example where we used OpenCV to capture frames from webcam, we can use `Picamera2` module to fetch frames from an Rpi Camera inside our frame generator function and pass that to `predict_batch`"
   ]
  },
  {
   "cell_type": "code",
   "execution_count": null,
   "id": "5cf69207",
   "metadata": {},
   "outputs": [],
   "source": [
    "import cv2\n",
    "import degirum as dg\n",
    "import numpy as np\n",
    "from picamera2 import Picamera2\n",
    "\n",
    "your_model_name = \"model-name\"\n",
    "your_host_address = \"@local\" # Can be dg.CLOUD, host:port, or dg.LOCAL\n",
    "your_model_zoo = \"degirum/hailo\"\n",
    "your_token = \"<token>\"\n",
    "\n",
    "# Load the model\n",
    "model = dg.load_model(\n",
    "    model_name = your_model_name, \n",
    "    inference_host_address = your_host_address, \n",
    "    zoo_url = your_model_zoo, \n",
    "    token = your_token \n",
    "    # optional parameters, such as overlay_show_probabilities = True\n",
    ")\n",
    "\n",
    "# Define frame generator using Picamera2\n",
    "def picamera2_frame_generator():\n",
    "    picam2 = Picamera2()\n",
    "    picam2.configure(picam2.preview_configuration(main={\"format\": 'BGR888'}))\n",
    "    picam2.start()\n",
    "    try:\n",
    "        while True:\n",
    "            frame = picam2.capture_array()\n",
    "            yield frame\n",
    "    finally:\n",
    "        picam2.stop()\n",
    "\n",
    "# Run inference and display\n",
    "for result in model.predict_batch(picamera2_frame_generator()):\n",
    "    cv2.imshow(\"AI Inference PiCamera2\", result.image_overlay)\n",
    "    if cv2.waitKey(1) & 0xFF == ord(\"q\"):\n",
    "        break\n",
    "\n",
    "cv2.destroyAllWindows()\n"
   ]
  },
  {
   "cell_type": "markdown",
   "id": "798ed24d",
   "metadata": {},
   "source": [
    "#### Using Gstreamer using Pygobject module\n",
    "\n",
    "we will use pygobject to fetch frames using gstreamer inside our custom video generator. It will require you to install pygobject which is a python binding which provides bindings for gstreamer etc. To install pygobject, follow below steps:\n",
    "\n",
    "`sudo apt install python3-gi python3-gi-cairo`\n",
    "\n",
    "`pip install PyGObject`"
   ]
  },
  {
   "cell_type": "code",
   "execution_count": null,
   "id": "b8d1162e",
   "metadata": {},
   "outputs": [],
   "source": [
    "import gi\n",
    "gi.require_version('Gst', '1.0')\n",
    "from gi.repository import Gst\n",
    "import numpy as np\n",
    "import cv2\n",
    "import degirum as dg\n",
    "\n",
    "# Initialize GStreamer\n",
    "Gst.init(None)\n",
    "\n",
    "# Load Hailo model \n",
    "model = dg.load_model(\n",
    "    model_name=\"yolov8n_coco--640x640_quant_hailort_multidevice_1\",\n",
    "    inference_host_address=\"@local\",\n",
    "    zoo_url=\"degirum/hailo\"\n",
    ")\n",
    "\n",
    "\n",
    "# Custom generator using PyGObject\n",
    "def custom_video_generator():\n",
    "    pipeline_str = (\n",
    "        \"v4l2src device=/dev/video0 ! \"\n",
    "        \"videoconvert ! video/x-raw, format=BGR ! \"\n",
    "        \"appsink name=sink emit-signals=true max-buffers=1 drop=true\"\n",
    "    )\n",
    "    pipeline = Gst.parse_launch(pipeline_str)\n",
    "    sink = pipeline.get_by_name(\"sink\")\n",
    "\n",
    "    pipeline.set_state(Gst.State.PLAYING)\n",
    "\n",
    "    try:\n",
    "        while True:\n",
    "            sample = sink.emit(\"pull-sample\")\n",
    "            if sample:\n",
    "                buf = sample.get_buffer()\n",
    "                caps = sample.get_caps()\n",
    "                width = caps.get_structure(0).get_value(\"width\")\n",
    "                height = caps.get_structure(0).get_value(\"height\")\n",
    "\n",
    "                success, map_info = buf.map(Gst.MapFlags.READ)\n",
    "                if not success:\n",
    "                    continue\n",
    "\n",
    "                frame = np.frombuffer(map_info.data, np.uint8).reshape((height, width, 3))\n",
    "                buf.unmap(map_info)\n",
    "\n",
    "                yield frame\n",
    "            else:\n",
    "                break\n",
    "    finally:\n",
    "        pipeline.set_state(Gst.State.NULL)\n",
    "\n",
    "# Run prediction and display\n",
    "for result in model.predict_batch(custom_video_generator()):\n",
    "    cv2.imshow(\"Webcam Inference\", result.image_overlay)\n",
    "    if cv2.waitKey(1) & 0xFF == ord(\"q\"):\n",
    "        break\n",
    "\n",
    "cv2.destroyAllWindows()"
   ]
  },
  {
   "cell_type": "markdown",
   "id": "ad2c9b31",
   "metadata": {},
   "source": [
    "#### Transform your video source before predictions\n",
    "\n",
    "Lets a take a look at how can you perform pre-processing or transformation on your input video source like rotation, resize, crop etc and perform model prediction over it. In this example, we will take camera input and rotate it 90' clockwise before passing it to `predict_batch` function."
   ]
  },
  {
   "cell_type": "markdown",
   "id": "06e01779",
   "metadata": {},
   "source": [
    "For this, we will modify our video generator as follows:"
   ]
  },
  {
   "cell_type": "code",
   "execution_count": null,
   "id": "0118a537",
   "metadata": {},
   "outputs": [],
   "source": [
    "def rotated_frame_generator(video_source):\n",
    "    stream = cv2.VideoCapture(video_source)\n",
    "    try:\n",
    "        while True:\n",
    "            ret, frame = stream.read()\n",
    "            if not ret:\n",
    "                break\n",
    "            rotated_frame = cv2.rotate(frame, cv2.ROTATE_90_CLOCKWISE) # Rotate frame 90 degrees clockwise\n",
    "            yield rotated_frame\n",
    "    finally:\n",
    "        stream.release()"
   ]
  },
  {
   "cell_type": "markdown",
   "id": "2768b47a",
   "metadata": {},
   "source": [
    "Putting it all together, it looks like this:"
   ]
  },
  {
   "cell_type": "code",
   "execution_count": null,
   "id": "fb106f2a",
   "metadata": {},
   "outputs": [],
   "source": [
    "import degirum as dg\n",
    "import degirum_tools.video_support as vs\n",
    "import cv2\n",
    "import degirum_tools\n",
    "\n",
    "hw_location = \"@local\"\n",
    "model_zoo_url = \"model_zoo_url\"\n",
    "model_name = \"your_model_name\"\n",
    "video_source_path = 0 # Webcam source : 0\n",
    "degirum_cloud_token = \"<token>\" # Optional, only needed for cloud inference\n",
    "\n",
    "# Load the model\n",
    "model = dg.load_model(\n",
    "    model_name=model_name,\n",
    "    inference_host_address=hw_location,\n",
    "    zoo_url=model_zoo_url,\n",
    "    token=degirum_cloud_token,\n",
    "    overlay_color=(0, 255, 0)\n",
    ")\n",
    "\n",
    "# Define rotated frame generator\n",
    "def rotated_frame_generator(video_source):\n",
    "    stream = cv2.VideoCapture(video_source)\n",
    "    try:\n",
    "        while True:\n",
    "            ret, frame = stream.read()\n",
    "            if not ret:\n",
    "                break\n",
    "            rotated_frame = cv2.rotate(frame, cv2.ROTATE_90_CLOCKWISE)  # Rotate frame 90 degrees clockwise\n",
    "            yield rotated_frame\n",
    "    finally:\n",
    "        stream.release()\n",
    "\n",
    "# Run inference and display\n",
    "for result in model.predict_batch(rotated_frame_generator(video_source_path)):\n",
    "    cv2.imshow(\"AI Inference\", result.image_overlay)\n",
    "    if cv2.waitKey(1) & 0xFF == ord(\"q\"):\n",
    "        break\n",
    "\n",
    "cv2.destroyAllWindows()\n"
   ]
  },
  {
   "cell_type": "markdown",
   "id": "fe943911",
   "metadata": {},
   "source": [
    "#### Conclusion\n",
    "\n",
    "In this guide, we have walked through the steps of setting up a custom video frame generator and pass it to model predictions using DeGirum PySDK. These steps allows you to modify and transform your video source feed and perform different operations such as rotation, crop etc and use the transformed video frames for model prediction. Such a process is useful especially when you want to modify your original source input for better accuracy on model predictions. "
   ]
  }
 ],
 "metadata": {
  "kernelspec": {
   "display_name": "darshil_kernel",
   "language": "python",
   "name": "darshil_kernel"
  },
  "language_info": {
   "codemirror_mode": {
    "name": "ipython",
    "version": 3
   },
   "file_extension": ".py",
   "mimetype": "text/x-python",
   "name": "python",
   "nbconvert_exporter": "python",
   "pygments_lexer": "ipython3",
   "version": "3.8.10"
  }
 },
 "nbformat": 4,
 "nbformat_minor": 5
}
