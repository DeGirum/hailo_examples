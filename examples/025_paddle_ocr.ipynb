{
 "cells": [
  {
   "cell_type": "markdown",
   "id": "d84dcde8",
   "metadata": {},
   "source": [
    "# Paddle OCR Inference with DeGirum PySDK\n",
    "This notebook demonstrates an end-to-end text detection and recognition pipeline using PaddleOCR. It takes an image as the input, detects text regions, and accurately decodes the recognized text using OCR models. The combined results are then displayed."
   ]
  },
  {
   "cell_type": "code",
   "execution_count": null,
   "id": "2d4d7300",
   "metadata": {},
   "outputs": [],
   "source": [
    "import degirum as dg, degirum_tools\n",
    "\n",
    "inference_host_address = \"@local\"\n",
    "zoo_url = 'degirum/hailo'\n",
    "token=''\n",
    "device_type=['HAILORT/HAILO8']\n",
    "\n",
    "# specify image source\n",
    "image_source = \"../assets/ocr_img.png\" \n",
    "\n",
    "# specify model names\n",
    "paddle_ocr_det_model_name = \"paddle_ocr_detection--544x960_quant_hailort_hailo8_1\"\n",
    "paddle_ocr_rec_model_name = \"paddle_ocr_recognition--48x320_quant_hailort_hailo8_1\"\n",
    "\n",
    "# Load paddle ocr text detection and text recognition models\n",
    "paddle_ocr_text_det_model = dg.load_model(\n",
    "    model_name=paddle_ocr_det_model_name,\n",
    "    inference_host_address=inference_host_address,\n",
    "    zoo_url=zoo_url,\n",
    "    device_type=device_type  \n",
    ")\n",
    "\n",
    "paddle_ocr_text_rec_model = dg.load_model(\n",
    "    model_name=paddle_ocr_rec_model_name,\n",
    "    inference_host_address=inference_host_address,\n",
    "    zoo_url=zoo_url,\n",
    "    device_type=device_type  \n",
    ")\n",
    "\n",
    "# Create a compound cropping model\n",
    "crop_model = degirum_tools.CroppingAndClassifyingCompoundModel(\n",
    "    paddle_ocr_text_det_model, \n",
    "    paddle_ocr_text_rec_model\n",
    ")\n",
    "\n",
    "# Run AI inference on image\n",
    "inference_result = crop_model(image_source)\n",
    "\n",
    "# Display combined results\n",
    "with degirum_tools.Display(\"OCR Output\") as display:\n",
    "    display.show_image(inference_result)"
   ]
  }
 ],
 "metadata": {
  "kernelspec": {
   "display_name": "Python 3 (ipykernel)",
   "language": "python",
   "name": "python3"
  },
  "language_info": {
   "codemirror_mode": {
    "name": "ipython",
    "version": 3
   },
   "file_extension": ".py",
   "mimetype": "text/x-python",
   "name": "python",
   "nbconvert_exporter": "python",
   "pygments_lexer": "ipython3",
   "version": "3.10.10"
  }
 },
 "nbformat": 4,
 "nbformat_minor": 5
}
