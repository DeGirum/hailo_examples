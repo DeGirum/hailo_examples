{
 "cells": [
  {
   "cell_type": "markdown",
   "id": "22a831c3",
   "metadata": {},
   "source": [
    "# Supervision Integration with DeGirum PySDK (Hailo8L/HAILO8)\n",
    "\n",
    "This notebook demonstrates using the Supervision library to annotate detection results from DeGirum's PySDK running on Hailo hardware. It follows the same modular style as our official user guides and covers:\n",
    "\n",
    "- Connecting to local or cloud Hailo inference hosts\n",
    "- Running object detection using YOLO models\n",
    "- Visualizing predictions using `supervision` tools (bounding boxes + labels)"
   ]
  },
  {
   "cell_type": "code",
   "execution_count": 10,
   "id": "864ba625",
   "metadata": {},
   "outputs": [],
   "source": [
    "import cv2\n",
    "import numpy as np\n",
    "from supervision.draw.color import Color\n",
    "from supervision.detection.core import Detections\n",
    "from supervision.geometry.core import Position\n",
    "from supervision.annotators.core import LabelAnnotator, BoxAnnotator\n",
    "import degirum as dg"
   ]
  },
  {
   "cell_type": "code",
   "execution_count": null,
   "id": "511bc247",
   "metadata": {},
   "outputs": [],
   "source": [
    "# Inference settings\n",
    "inference_host_address = \"@cloud\"\n",
    "zoo_url = \"degirum/hailo\"\n",
    "token = \"\"\n",
    "device_type = [\"HAILORT/HAILO8L\"]\n",
    "model_name = \"yolov8n_relu6_face--640x640_quant_hailort_multidevice_1\"\n",
    "image_path = \"../assets/ThreePersons.jpg\""
   ]
  },
  {
   "cell_type": "code",
   "execution_count": null,
   "id": "79e5027c",
   "metadata": {},
   "outputs": [],
   "source": [
    "# load AI model\n",
    "model = dg.load_model(\n",
    "    model_name=model_name,\n",
    "    inference_host_address=inference_host_address,\n",
    "    zoo_url=zoo_url,\n",
    "    token=token,\n",
    "    device_type=device_type\n",
    ")\n",
    "\n",
    "print(f\" Running inference using '{model_name}' on image source '{image_path}'\")\n",
    "inference_result = model(image_path)"
   ]
  },
  {
   "cell_type": "code",
   "execution_count": 13,
   "id": "b2050429",
   "metadata": {},
   "outputs": [],
   "source": [
    "image = cv2.imread(image_path)\n",
    "if len(inference_result.results) > 0:\n",
    "    bboxes = np.array([det[\"bbox\"] for det in inference_result.results], dtype=np.float32)\n",
    "    class_ids = np.array([det[\"category_id\"] for det in inference_result.results], dtype=int)\n",
    "    confidences = np.array([det[\"score\"] for det in inference_result.results], dtype=np.float32)\n",
    "    labels = [f'{det[\"label\"]} {det[\"score\"]:.2f}' for det in inference_result.results]\n",
    "\n",
    "    detections = Detections(\n",
    "        xyxy=bboxes,\n",
    "        class_id=class_ids,\n",
    "        confidence=confidences\n",
    "    )\n",
    "else:\n",
    "    print(\"⚠️ No detections found.\")"
   ]
  },
  {
   "cell_type": "code",
   "execution_count": 14,
   "id": "97b12d5a",
   "metadata": {},
   "outputs": [],
   "source": [
    "# Bounding box annotator\n",
    "box_annotator = BoxAnnotator(\n",
    "    color=Color(r=0, g=255, b=0),  # Green boxes\n",
    "    thickness=2\n",
    ")\n",
    "\n",
    "# Label annotator with top-left alignment\n",
    "label_annotator = LabelAnnotator(\n",
    "    color=Color(r=0, g=0, b=0),             # Black background\n",
    "    text_color=Color(r=255, g=255, b=255),  # White font\n",
    "    text_position=Position.TOP_LEFT,\n",
    "    text_scale=0.5,\n",
    "    text_thickness=1,\n",
    "    text_padding=4,\n",
    "    border_radius=2\n",
    ")"
   ]
  },
  {
   "cell_type": "code",
   "execution_count": null,
   "id": "308caf8f",
   "metadata": {},
   "outputs": [],
   "source": [
    "# Apply annotations\n",
    "annotated = box_annotator.annotate(scene=image.copy(), detections=detections)\n",
    "annotated = label_annotator.annotate(scene=annotated, detections=detections, labels=labels)\n",
    "\n",
    "# Show and save\n",
    "cv2.imshow(\"Supervision Annotation (Top-Left Labels)\", annotated)\n",
    "print(\"Press 'x' or 'q' to exit.\")\n",
    "cv2.waitKey(0)\n",
    "cv2.destroyAllWindows()"
   ]
  }
 ],
 "metadata": {
  "kernelspec": {
   "display_name": "Python 3",
   "language": "python",
   "name": "python3"
  },
  "language_info": {
   "codemirror_mode": {
    "name": "ipython",
    "version": 3
   },
   "file_extension": ".py",
   "mimetype": "text/x-python",
   "name": "python",
   "nbconvert_exporter": "python",
   "pygments_lexer": "ipython3",
   "version": "3.11.9"
  }
 },
 "nbformat": 4,
 "nbformat_minor": 5
}
