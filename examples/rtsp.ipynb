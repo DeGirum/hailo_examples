{
 "cells": [
  {
   "cell_type": "markdown",
   "metadata": {},
   "source": [
    "### Object Detection on an RTSP Stream\n",
    "This script demonstrates how to perform real-time AI inference on an RTSP video stream using DeGirum PySDK. It leverages a YOLOv8 model to detect objects within the video feed and displays the results dynamically in a dedicated window.\n",
    "\n",
    "- RTSP Support: The script processes live video streams from RTSP-enabled cameras, making it ideal for real-time surveillance and monitoring applications.\n",
    "- Flexible Deployment: Supports both cloud and local inference, with configurable model zoo locations and token-based authentication.\n",
    "- Customizable AI Models: The specified model (yolov8n_relu6_coco--640x640_quant_hailort_hailo8l_1) can be replaced with any compatible model for tailored use cases.\n",
    "- Live Visualization: Detected objects are overlaid on the video feed, providing intuitive, real-time feedback.\n",
    "\n",
    "Replace the video_source URL with your RTSP stream credentials to integrate your camera feed and run the script for live AI-powered insights."
   ]
  },
  {
   "cell_type": "code",
   "execution_count": 5,
   "metadata": {},
   "outputs": [],
   "source": [
    "import degirum as dg, degirum_tools\n",
    "# choose inference host address\n",
    "inference_host_address = \"@cloud\"\n",
    "# inference_host_address = \"@local\"\n",
    "\n",
    "# choose zoo_url\n",
    "zoo_url = \"degirum/models_hailort\"\n",
    "# zoo_url = \"../models\"\n",
    "\n",
    "# set token\n",
    "token = degirum_tools.get_token()\n",
    "# token = '' # leave empty for local inference\n",
    "\n",
    "model_name = \"yolov8n_relu6_coco--640x640_quant_hailort_hailo8l_1\"\n",
    "video_source = \"rtsp://username:password@ip:port/cam/realmonitor?channel=1&subtype=0\" # replace with your camera rtsp stream\n",
    "\n",
    "\n",
    "# load model\n",
    "model = dg.load_model(\n",
    "    model_name=model_name, \n",
    "    inference_host_address=inference_host_address,\n",
    "    zoo_url=zoo_url,\n",
    "    token=token,\n",
    ")\n",
    "\n",
    "# run AI inference on video stream and display the results\n",
    "with degirum_tools.Display(\"AI Camera\") as output_display:\n",
    "    for inference_result in degirum_tools.predict_stream(model, video_source):\n",
    "        output_display.show(inference_result)"
   ]
  }
 ],
 "metadata": {
  "kernelspec": {
   "display_name": "supervision",
   "language": "python",
   "name": "python3"
  },
  "language_info": {
   "codemirror_mode": {
    "name": "ipython",
    "version": 3
   },
   "file_extension": ".py",
   "mimetype": "text/x-python",
   "name": "python",
   "nbconvert_exporter": "python",
   "pygments_lexer": "ipython3",
   "version": "3.9.18"
  }
 },
 "nbformat": 4,
 "nbformat_minor": 2
}
