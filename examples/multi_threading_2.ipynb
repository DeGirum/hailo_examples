{
 "cells": [
  {
   "cell_type": "code",
   "execution_count": 1,
   "metadata": {},
   "outputs": [],
   "source": [
    "import degirum as dg\n",
    "import degirum_tools\n",
    "import degirum_tools.streams as dgstreams\n",
    "\n",
    "inference_host_address = \"@cloud\"\n",
    "# inference_host_address = \"@local\"\n",
    "\n",
    "# choose zoo_url\n",
    "zoo_url = \"degirum/hailo\"\n",
    "# zoo_url = \"../models\"\n",
    "\n",
    "# set token\n",
    "token = degirum_tools.get_token()\n",
    "# token = '' # leave empty for local inference\n",
    "\n",
    "# Define the configurations for video file and webcam\n",
    "configurations = [\n",
    "    {\n",
    "        \"model_name\": \"yolov8n_relu6_coco--640x640_quant_hailort_hailo8_1\",\n",
    "        \"source\": \"../assets/Traffic.mp4\",  # Video file\n",
    "        \"display_name\": \"Traffic Camera\",\n",
    "    },\n",
    "    {\n",
    "        \"model_name\": \"yolov8n_relu6_face--640x640_quant_hailort_hailo8_1\",\n",
    "        \"source\": 1,  # Webcam index\n",
    "        \"display_name\": \"Webcam Feed\",\n",
    "    },\n",
    "]\n",
    "\n",
    "# load models\n",
    "models = [\n",
    "    dg.load_model(cfg[\"model_name\"], inference_host_address, zoo_url, token)\n",
    "    for cfg in configurations\n",
    "]\n",
    "\n",
    "# define gizmos\n",
    "sources = [dgstreams.VideoSourceGizmo(cfg[\"source\"]) for cfg in configurations]\n",
    "detectors = [dgstreams.AiSimpleGizmo(model) for model in models]\n",
    "display = dgstreams.VideoDisplayGizmo(\n",
    "    [cfg[\"display_name\"] for cfg in configurations], show_ai_overlay=True, show_fps=True\n",
    ")\n",
    "\n",
    "# create pipeline\n",
    "pipeline = (\n",
    "    (source >> detector for source, detector in zip(sources, detectors)),\n",
    "    (detector >> display[di] for di, detector in enumerate(detectors)),\n",
    ")\n",
    "\n",
    "# start composition\n",
    "dgstreams.Composition(*pipeline).start()"
   ]
  }
 ],
 "metadata": {
  "kernelspec": {
   "display_name": "supervision",
   "language": "python",
   "name": "python3"
  },
  "language_info": {
   "codemirror_mode": {
    "name": "ipython",
    "version": 3
   },
   "file_extension": ".py",
   "mimetype": "text/x-python",
   "name": "python",
   "nbconvert_exporter": "python",
   "pygments_lexer": "ipython3",
   "version": "3.9.18"
  }
 },
 "nbformat": 4,
 "nbformat_minor": 2
}
