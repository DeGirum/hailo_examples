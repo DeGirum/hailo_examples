{
 "cells": [
  {
   "cell_type": "markdown",
   "metadata": {},
   "source": [
    "### DeGirum PySDK Tutorial for Hailo8L/HAILO8\n",
    "In this notebook, we illustrate the main features of PySDK and how it can be used to quickly develop edge AI applications using the `Hailo8L/HAILO8` accelerator. See [Setup Instructions for PySDK Notebooks](../README.md#setup-instructions-for-pysdk-notebooks). \n",
    "\n",
    "DeGirum's PySDK provides simple APIs to run AI model inference. In general, there are three steps in running an AI model:\n",
    "1. Loading model using `degirum.load_model` method\n",
    "2. Running inference on an input using the `model.predict` method \n",
    "3. Visualizing inference results using the `results.image_overlay` method"
   ]
  },
  {
   "cell_type": "code",
   "execution_count": 1,
   "metadata": {},
   "outputs": [
    {
     "name": "stderr",
     "output_type": "stream",
     "text": [
      "usage: ipython-kernel-install [-h] [--user] [--name NAME]\n",
      "                              [--display-name DISPLAY_NAME]\n",
      "                              [--profile PROFILE] [--prefix PREFIX]\n",
      "                              [--sys-prefix] [--env ENV VALUE]\n",
      "                              [--frozen_modules]\n",
      "ipython-kernel-install: error: unrecognized arguments: --quiet\n",
      "WARNING: Ignoring invalid distribution -umpy (c:\\users\\darshilmodi\\appdata\\local\\packages\\pythonsoftwarefoundation.python.3.8_qbz5n2kfra8p0\\localcache\\local-packages\\python38\\site-packages)\n",
      "WARNING: Ignoring invalid distribution -umpy (c:\\users\\darshilmodi\\appdata\\local\\packages\\pythonsoftwarefoundation.python.3.8_qbz5n2kfra8p0\\localcache\\local-packages\\python38\\site-packages)\n",
      "WARNING: Ignoring invalid distribution -umpy (c:\\users\\darshilmodi\\appdata\\local\\packages\\pythonsoftwarefoundation.python.3.8_qbz5n2kfra8p0\\localcache\\local-packages\\python38\\site-packages)\n",
      "WARNING: Ignoring invalid distribution -umpy (c:\\users\\darshilmodi\\appdata\\local\\packages\\pythonsoftwarefoundation.python.3.8_qbz5n2kfra8p0\\localcache\\local-packages\\python38\\site-packages)\n"
     ]
    }
   ],
   "source": [
    "!python -m ipykernel install --user --name=degirum --display-name \"Degirum Python Kernel\" --quiet\n",
    "!pip install --upgrade degirum degirum_tools --quiet"
   ]
  },
  {
   "cell_type": "code",
   "execution_count": 2,
   "metadata": {},
   "outputs": [
    {
     "name": "stdout",
     "output_type": "stream",
     "text": [
      "Requirement already satisfied: degirum in c:\\users\\darshilmodi\\appdata\\local\\packages\\pythonsoftwarefoundation.python.3.8_qbz5n2kfra8p0\\localcache\\local-packages\\python38\\site-packages (0.14.3)\n",
      "Requirement already satisfied: degirum_tools in c:\\users\\darshilmodi\\appdata\\local\\packages\\pythonsoftwarefoundation.python.3.8_qbz5n2kfra8p0\\localcache\\local-packages\\python38\\site-packages (0.16.5)\n",
      "Collecting degirum_tools\n",
      "  Using cached degirum_tools-0.19.0-py3-none-any.whl.metadata (2.5 kB)\n",
      "Requirement already satisfied: pyzmq>=26.1 in c:\\users\\darshilmodi\\appdata\\local\\packages\\pythonsoftwarefoundation.python.3.8_qbz5n2kfra8p0\\localcache\\local-packages\\python38\\site-packages (from degirum) (26.4.0)\n",
      "Requirement already satisfied: psutil>=6.0 in c:\\users\\darshilmodi\\appdata\\local\\packages\\pythonsoftwarefoundation.python.3.8_qbz5n2kfra8p0\\localcache\\local-packages\\python38\\site-packages (from degirum) (6.0.0)\n",
      "Requirement already satisfied: pyseccomp>=0.1 in c:\\users\\darshilmodi\\appdata\\local\\packages\\pythonsoftwarefoundation.python.3.8_qbz5n2kfra8p0\\localcache\\local-packages\\python38\\site-packages (from degirum) (0.1.2)\n",
      "Requirement already satisfied: msgpack<2.0,>=1.0.4 in c:\\users\\darshilmodi\\appdata\\local\\packages\\pythonsoftwarefoundation.python.3.8_qbz5n2kfra8p0\\localcache\\local-packages\\python38\\site-packages (from degirum) (1.0.8)\n",
      "Requirement already satisfied: msgpack-numpy==0.4.7.1 in c:\\users\\darshilmodi\\appdata\\local\\packages\\pythonsoftwarefoundation.python.3.8_qbz5n2kfra8p0\\localcache\\local-packages\\python38\\site-packages (from degirum) (0.4.7.1)\n",
      "Requirement already satisfied: numpy<2.0,>=1.22 in c:\\users\\darshilmodi\\appdata\\local\\packages\\pythonsoftwarefoundation.python.3.8_qbz5n2kfra8p0\\localcache\\local-packages\\python38\\site-packages (from degirum) (1.24.4)\n",
      "Requirement already satisfied: opencv-python<5.0,>=4.6 in c:\\users\\darshilmodi\\appdata\\local\\packages\\pythonsoftwarefoundation.python.3.8_qbz5n2kfra8p0\\localcache\\local-packages\\python38\\site-packages (from degirum) (4.10.0.84)\n",
      "Requirement already satisfied: pillow<11.0,>=9.2 in c:\\users\\darshilmodi\\appdata\\local\\packages\\pythonsoftwarefoundation.python.3.8_qbz5n2kfra8p0\\localcache\\local-packages\\python38\\site-packages (from degirum) (10.3.0)\n",
      "Requirement already satisfied: python-socketio<6.0,>=5.7 in c:\\users\\darshilmodi\\appdata\\local\\packages\\pythonsoftwarefoundation.python.3.8_qbz5n2kfra8p0\\localcache\\local-packages\\python38\\site-packages (from python-socketio[client]<6.0,>=5.7->degirum) (5.11.3)\n",
      "Requirement already satisfied: pyyaml<7.0,>=6.0 in c:\\users\\darshilmodi\\appdata\\local\\packages\\pythonsoftwarefoundation.python.3.8_qbz5n2kfra8p0\\localcache\\local-packages\\python38\\site-packages (from degirum) (6.0.1)\n",
      "Requirement already satisfied: types-PyYAML<7.0,>=6.0 in c:\\users\\darshilmodi\\appdata\\local\\packages\\pythonsoftwarefoundation.python.3.8_qbz5n2kfra8p0\\localcache\\local-packages\\python38\\site-packages (from degirum) (6.0.12.20240724)\n",
      "Requirement already satisfied: requests<3.0,>=2.30.0 in c:\\users\\darshilmodi\\appdata\\local\\packages\\pythonsoftwarefoundation.python.3.8_qbz5n2kfra8p0\\localcache\\local-packages\\python38\\site-packages (from degirum) (2.32.3)\n",
      "Requirement already satisfied: types-requests<3.0,>=2.30.0 in c:\\users\\darshilmodi\\appdata\\local\\packages\\pythonsoftwarefoundation.python.3.8_qbz5n2kfra8p0\\localcache\\local-packages\\python38\\site-packages (from degirum) (2.32.0.20240712)\n",
      "Requirement already satisfied: websocket-client<2.0,>=1.5.1 in c:\\users\\darshilmodi\\appdata\\local\\packages\\pythonsoftwarefoundation.python.3.8_qbz5n2kfra8p0\\localcache\\local-packages\\python38\\site-packages (from degirum) (1.8.0)\n",
      "Requirement already satisfied: scipy in c:\\users\\darshilmodi\\appdata\\local\\packages\\pythonsoftwarefoundation.python.3.8_qbz5n2kfra8p0\\localcache\\local-packages\\python38\\site-packages (from degirum_tools) (1.10.1)\n",
      "Requirement already satisfied: python-dotenv in c:\\users\\darshilmodi\\appdata\\local\\packages\\pythonsoftwarefoundation.python.3.8_qbz5n2kfra8p0\\localcache\\local-packages\\python38\\site-packages (from degirum_tools) (1.0.1)\n",
      "INFO: pip is looking at multiple versions of degirum-tools to determine which version is compatible with other requirements. This could take a while.\n",
      "  Using cached degirum_tools-0.18.0-py3-none-any.whl.metadata (2.3 kB)\n",
      "  Using cached degirum_tools-0.17.0-py3-none-any.whl.metadata (2.3 kB)\n",
      "  Using cached degirum_tools-0.16.7-py3-none-any.whl.metadata (2.3 kB)\n",
      "  Using cached degirum_tools-0.16.6-py3-none-any.whl.metadata (2.3 kB)\n",
      "Requirement already satisfied: ipython in c:\\users\\darshilmodi\\appdata\\local\\packages\\pythonsoftwarefoundation.python.3.8_qbz5n2kfra8p0\\localcache\\local-packages\\python38\\site-packages (from degirum_tools) (8.12.3)\n",
      "Requirement already satisfied: pafy in c:\\users\\darshilmodi\\appdata\\local\\packages\\pythonsoftwarefoundation.python.3.8_qbz5n2kfra8p0\\localcache\\local-packages\\python38\\site-packages (from degirum_tools) (0.5.5)\n",
      "Requirement already satisfied: youtube-dl==2020.12.2 in c:\\users\\darshilmodi\\appdata\\local\\packages\\pythonsoftwarefoundation.python.3.8_qbz5n2kfra8p0\\localcache\\local-packages\\python38\\site-packages (from degirum_tools) (2020.12.2)\n",
      "Requirement already satisfied: pycocotools in c:\\users\\darshilmodi\\appdata\\local\\packages\\pythonsoftwarefoundation.python.3.8_qbz5n2kfra8p0\\localcache\\local-packages\\python38\\site-packages (from degirum_tools) (2.0.7)\n",
      "Requirement already satisfied: typing-extensions in c:\\users\\darshilmodi\\appdata\\local\\packages\\pythonsoftwarefoundation.python.3.8_qbz5n2kfra8p0\\localcache\\local-packages\\python38\\site-packages (from degirum_tools) (4.12.2)\n",
      "Requirement already satisfied: jsonschema in c:\\users\\darshilmodi\\appdata\\local\\packages\\pythonsoftwarefoundation.python.3.8_qbz5n2kfra8p0\\localcache\\local-packages\\python38\\site-packages (from degirum_tools) (4.22.0)\n",
      "Requirement already satisfied: apprise in c:\\users\\darshilmodi\\appdata\\local\\packages\\pythonsoftwarefoundation.python.3.8_qbz5n2kfra8p0\\localcache\\local-packages\\python38\\site-packages (from degirum_tools) (1.9.3)\n",
      "Requirement already satisfied: bidict>=0.21.0 in c:\\users\\darshilmodi\\appdata\\local\\packages\\pythonsoftwarefoundation.python.3.8_qbz5n2kfra8p0\\localcache\\local-packages\\python38\\site-packages (from python-socketio<6.0,>=5.7->python-socketio[client]<6.0,>=5.7->degirum) (0.23.1)\n",
      "Requirement already satisfied: python-engineio>=4.8.0 in c:\\users\\darshilmodi\\appdata\\local\\packages\\pythonsoftwarefoundation.python.3.8_qbz5n2kfra8p0\\localcache\\local-packages\\python38\\site-packages (from python-socketio<6.0,>=5.7->python-socketio[client]<6.0,>=5.7->degirum) (4.9.1)\n",
      "Requirement already satisfied: charset-normalizer<4,>=2 in c:\\users\\darshilmodi\\appdata\\local\\packages\\pythonsoftwarefoundation.python.3.8_qbz5n2kfra8p0\\localcache\\local-packages\\python38\\site-packages (from requests<3.0,>=2.30.0->degirum) (3.3.2)\n",
      "Requirement already satisfied: idna<4,>=2.5 in c:\\users\\darshilmodi\\appdata\\local\\packages\\pythonsoftwarefoundation.python.3.8_qbz5n2kfra8p0\\localcache\\local-packages\\python38\\site-packages (from requests<3.0,>=2.30.0->degirum) (3.7)\n",
      "Requirement already satisfied: urllib3<3,>=1.21.1 in c:\\users\\darshilmodi\\appdata\\local\\packages\\pythonsoftwarefoundation.python.3.8_qbz5n2kfra8p0\\localcache\\local-packages\\python38\\site-packages (from requests<3.0,>=2.30.0->degirum) (2.2.3)\n",
      "Requirement already satisfied: certifi>=2017.4.17 in c:\\users\\darshilmodi\\appdata\\local\\packages\\pythonsoftwarefoundation.python.3.8_qbz5n2kfra8p0\\localcache\\local-packages\\python38\\site-packages (from requests<3.0,>=2.30.0->degirum) (2024.6.2)\n",
      "Requirement already satisfied: requests-oauthlib in c:\\users\\darshilmodi\\appdata\\local\\packages\\pythonsoftwarefoundation.python.3.8_qbz5n2kfra8p0\\localcache\\local-packages\\python38\\site-packages (from apprise->degirum_tools) (2.0.0)\n",
      "Requirement already satisfied: click>=5.0 in c:\\users\\darshilmodi\\appdata\\local\\packages\\pythonsoftwarefoundation.python.3.8_qbz5n2kfra8p0\\localcache\\local-packages\\python38\\site-packages (from apprise->degirum_tools) (8.1.7)\n",
      "Requirement already satisfied: markdown in c:\\users\\darshilmodi\\appdata\\local\\packages\\pythonsoftwarefoundation.python.3.8_qbz5n2kfra8p0\\localcache\\local-packages\\python38\\site-packages (from apprise->degirum_tools) (3.6)\n",
      "Requirement already satisfied: backcall in c:\\users\\darshilmodi\\appdata\\local\\packages\\pythonsoftwarefoundation.python.3.8_qbz5n2kfra8p0\\localcache\\local-packages\\python38\\site-packages (from ipython->degirum_tools) (0.2.0)\n",
      "Requirement already satisfied: decorator in c:\\users\\darshilmodi\\appdata\\local\\packages\\pythonsoftwarefoundation.python.3.8_qbz5n2kfra8p0\\localcache\\local-packages\\python38\\site-packages (from ipython->degirum_tools) (5.1.1)\n",
      "Requirement already satisfied: jedi>=0.16 in c:\\users\\darshilmodi\\appdata\\local\\packages\\pythonsoftwarefoundation.python.3.8_qbz5n2kfra8p0\\localcache\\local-packages\\python38\\site-packages (from ipython->degirum_tools) (0.19.1)\n",
      "Requirement already satisfied: matplotlib-inline in c:\\users\\darshilmodi\\appdata\\local\\packages\\pythonsoftwarefoundation.python.3.8_qbz5n2kfra8p0\\localcache\\local-packages\\python38\\site-packages (from ipython->degirum_tools) (0.1.7)\n",
      "Requirement already satisfied: pickleshare in c:\\users\\darshilmodi\\appdata\\local\\packages\\pythonsoftwarefoundation.python.3.8_qbz5n2kfra8p0\\localcache\\local-packages\\python38\\site-packages (from ipython->degirum_tools) (0.7.5)\n",
      "Requirement already satisfied: prompt-toolkit!=3.0.37,<3.1.0,>=3.0.30 in c:\\users\\darshilmodi\\appdata\\local\\packages\\pythonsoftwarefoundation.python.3.8_qbz5n2kfra8p0\\localcache\\local-packages\\python38\\site-packages (from ipython->degirum_tools) (3.0.47)\n",
      "Requirement already satisfied: pygments>=2.4.0 in c:\\users\\darshilmodi\\appdata\\local\\packages\\pythonsoftwarefoundation.python.3.8_qbz5n2kfra8p0\\localcache\\local-packages\\python38\\site-packages (from ipython->degirum_tools) (2.18.0)\n",
      "Requirement already satisfied: stack-data in c:\\users\\darshilmodi\\appdata\\local\\packages\\pythonsoftwarefoundation.python.3.8_qbz5n2kfra8p0\\localcache\\local-packages\\python38\\site-packages (from ipython->degirum_tools) (0.6.3)\n",
      "Requirement already satisfied: traitlets>=5 in c:\\users\\darshilmodi\\appdata\\local\\packages\\pythonsoftwarefoundation.python.3.8_qbz5n2kfra8p0\\localcache\\local-packages\\python38\\site-packages (from ipython->degirum_tools) (5.14.3)\n",
      "Requirement already satisfied: colorama in c:\\users\\darshilmodi\\appdata\\local\\packages\\pythonsoftwarefoundation.python.3.8_qbz5n2kfra8p0\\localcache\\local-packages\\python38\\site-packages (from ipython->degirum_tools) (0.4.6)\n",
      "Requirement already satisfied: attrs>=22.2.0 in c:\\users\\darshilmodi\\appdata\\local\\packages\\pythonsoftwarefoundation.python.3.8_qbz5n2kfra8p0\\localcache\\local-packages\\python38\\site-packages (from jsonschema->degirum_tools) (23.2.0)\n",
      "Requirement already satisfied: importlib-resources>=1.4.0 in c:\\users\\darshilmodi\\appdata\\local\\packages\\pythonsoftwarefoundation.python.3.8_qbz5n2kfra8p0\\localcache\\local-packages\\python38\\site-packages (from jsonschema->degirum_tools) (6.4.0)\n",
      "Requirement already satisfied: jsonschema-specifications>=2023.03.6 in c:\\users\\darshilmodi\\appdata\\local\\packages\\pythonsoftwarefoundation.python.3.8_qbz5n2kfra8p0\\localcache\\local-packages\\python38\\site-packages (from jsonschema->degirum_tools) (2023.12.1)\n",
      "Requirement already satisfied: pkgutil-resolve-name>=1.3.10 in c:\\users\\darshilmodi\\appdata\\local\\packages\\pythonsoftwarefoundation.python.3.8_qbz5n2kfra8p0\\localcache\\local-packages\\python38\\site-packages (from jsonschema->degirum_tools) (1.3.10)\n",
      "Requirement already satisfied: referencing>=0.28.4 in c:\\users\\darshilmodi\\appdata\\local\\packages\\pythonsoftwarefoundation.python.3.8_qbz5n2kfra8p0\\localcache\\local-packages\\python38\\site-packages (from jsonschema->degirum_tools) (0.35.1)\n",
      "Requirement already satisfied: rpds-py>=0.7.1 in c:\\users\\darshilmodi\\appdata\\local\\packages\\pythonsoftwarefoundation.python.3.8_qbz5n2kfra8p0\\localcache\\local-packages\\python38\\site-packages (from jsonschema->degirum_tools) (0.18.1)\n",
      "Requirement already satisfied: matplotlib>=2.1.0 in c:\\users\\darshilmodi\\appdata\\local\\packages\\pythonsoftwarefoundation.python.3.8_qbz5n2kfra8p0\\localcache\\local-packages\\python38\\site-packages (from pycocotools->degirum_tools) (3.7.5)\n",
      "Requirement already satisfied: zipp>=3.1.0 in c:\\users\\darshilmodi\\appdata\\local\\packages\\pythonsoftwarefoundation.python.3.8_qbz5n2kfra8p0\\localcache\\local-packages\\python38\\site-packages (from importlib-resources>=1.4.0->jsonschema->degirum_tools) (3.19.2)\n",
      "Requirement already satisfied: parso<0.9.0,>=0.8.3 in c:\\users\\darshilmodi\\appdata\\local\\packages\\pythonsoftwarefoundation.python.3.8_qbz5n2kfra8p0\\localcache\\local-packages\\python38\\site-packages (from jedi>=0.16->ipython->degirum_tools) (0.8.4)\n",
      "Requirement already satisfied: contourpy>=1.0.1 in c:\\users\\darshilmodi\\appdata\\local\\packages\\pythonsoftwarefoundation.python.3.8_qbz5n2kfra8p0\\localcache\\local-packages\\python38\\site-packages (from matplotlib>=2.1.0->pycocotools->degirum_tools) (1.1.1)\n",
      "Requirement already satisfied: cycler>=0.10 in c:\\users\\darshilmodi\\appdata\\local\\packages\\pythonsoftwarefoundation.python.3.8_qbz5n2kfra8p0\\localcache\\local-packages\\python38\\site-packages (from matplotlib>=2.1.0->pycocotools->degirum_tools) (0.12.1)\n",
      "Requirement already satisfied: fonttools>=4.22.0 in c:\\users\\darshilmodi\\appdata\\local\\packages\\pythonsoftwarefoundation.python.3.8_qbz5n2kfra8p0\\localcache\\local-packages\\python38\\site-packages (from matplotlib>=2.1.0->pycocotools->degirum_tools) (4.53.0)\n",
      "Requirement already satisfied: kiwisolver>=1.0.1 in c:\\users\\darshilmodi\\appdata\\local\\packages\\pythonsoftwarefoundation.python.3.8_qbz5n2kfra8p0\\localcache\\local-packages\\python38\\site-packages (from matplotlib>=2.1.0->pycocotools->degirum_tools) (1.4.5)\n",
      "Requirement already satisfied: packaging>=20.0 in c:\\users\\darshilmodi\\appdata\\local\\packages\\pythonsoftwarefoundation.python.3.8_qbz5n2kfra8p0\\localcache\\local-packages\\python38\\site-packages (from matplotlib>=2.1.0->pycocotools->degirum_tools) (24.1)\n",
      "Requirement already satisfied: pyparsing>=2.3.1 in c:\\users\\darshilmodi\\appdata\\local\\packages\\pythonsoftwarefoundation.python.3.8_qbz5n2kfra8p0\\localcache\\local-packages\\python38\\site-packages (from matplotlib>=2.1.0->pycocotools->degirum_tools) (3.1.2)\n",
      "Requirement already satisfied: python-dateutil>=2.7 in c:\\users\\darshilmodi\\appdata\\local\\packages\\pythonsoftwarefoundation.python.3.8_qbz5n2kfra8p0\\localcache\\local-packages\\python38\\site-packages (from matplotlib>=2.1.0->pycocotools->degirum_tools) (2.9.0.post0)\n",
      "Requirement already satisfied: wcwidth in c:\\users\\darshilmodi\\appdata\\local\\packages\\pythonsoftwarefoundation.python.3.8_qbz5n2kfra8p0\\localcache\\local-packages\\python38\\site-packages (from prompt-toolkit!=3.0.37,<3.1.0,>=3.0.30->ipython->degirum_tools) (0.2.13)\n",
      "Requirement already satisfied: simple-websocket>=0.10.0 in c:\\users\\darshilmodi\\appdata\\local\\packages\\pythonsoftwarefoundation.python.3.8_qbz5n2kfra8p0\\localcache\\local-packages\\python38\\site-packages (from python-engineio>=4.8.0->python-socketio<6.0,>=5.7->python-socketio[client]<6.0,>=5.7->degirum) (1.0.0)\n",
      "Requirement already satisfied: importlib-metadata>=4.4 in c:\\users\\darshilmodi\\appdata\\local\\packages\\pythonsoftwarefoundation.python.3.8_qbz5n2kfra8p0\\localcache\\local-packages\\python38\\site-packages (from markdown->apprise->degirum_tools) (8.0.0)\n",
      "Requirement already satisfied: oauthlib>=3.0.0 in c:\\users\\darshilmodi\\appdata\\local\\packages\\pythonsoftwarefoundation.python.3.8_qbz5n2kfra8p0\\localcache\\local-packages\\python38\\site-packages (from requests-oauthlib->apprise->degirum_tools) (3.2.2)\n",
      "Requirement already satisfied: executing>=1.2.0 in c:\\users\\darshilmodi\\appdata\\local\\packages\\pythonsoftwarefoundation.python.3.8_qbz5n2kfra8p0\\localcache\\local-packages\\python38\\site-packages (from stack-data->ipython->degirum_tools) (2.0.1)\n",
      "Requirement already satisfied: asttokens>=2.1.0 in c:\\users\\darshilmodi\\appdata\\local\\packages\\pythonsoftwarefoundation.python.3.8_qbz5n2kfra8p0\\localcache\\local-packages\\python38\\site-packages (from stack-data->ipython->degirum_tools) (2.4.1)\n",
      "Requirement already satisfied: pure-eval in c:\\users\\darshilmodi\\appdata\\local\\packages\\pythonsoftwarefoundation.python.3.8_qbz5n2kfra8p0\\localcache\\local-packages\\python38\\site-packages (from stack-data->ipython->degirum_tools) (0.2.2)\n",
      "Requirement already satisfied: six>=1.12.0 in c:\\users\\darshilmodi\\appdata\\local\\packages\\pythonsoftwarefoundation.python.3.8_qbz5n2kfra8p0\\localcache\\local-packages\\python38\\site-packages (from asttokens>=2.1.0->stack-data->ipython->degirum_tools) (1.16.0)\n",
      "Requirement already satisfied: wsproto in c:\\users\\darshilmodi\\appdata\\local\\packages\\pythonsoftwarefoundation.python.3.8_qbz5n2kfra8p0\\localcache\\local-packages\\python38\\site-packages (from simple-websocket>=0.10.0->python-engineio>=4.8.0->python-socketio<6.0,>=5.7->python-socketio[client]<6.0,>=5.7->degirum) (1.2.0)\n",
      "Requirement already satisfied: h11<1,>=0.9.0 in c:\\users\\darshilmodi\\appdata\\local\\packages\\pythonsoftwarefoundation.python.3.8_qbz5n2kfra8p0\\localcache\\local-packages\\python38\\site-packages (from wsproto->simple-websocket>=0.10.0->python-engineio>=4.8.0->python-socketio<6.0,>=5.7->python-socketio[client]<6.0,>=5.7->degirum) (0.14.0)\n"
     ]
    },
    {
     "name": "stderr",
     "output_type": "stream",
     "text": [
      "WARNING: Ignoring invalid distribution -umpy (c:\\users\\darshilmodi\\appdata\\local\\packages\\pythonsoftwarefoundation.python.3.8_qbz5n2kfra8p0\\localcache\\local-packages\\python38\\site-packages)\n",
      "WARNING: Ignoring invalid distribution -umpy (c:\\users\\darshilmodi\\appdata\\local\\packages\\pythonsoftwarefoundation.python.3.8_qbz5n2kfra8p0\\localcache\\local-packages\\python38\\site-packages)\n",
      "WARNING: Ignoring invalid distribution -umpy (c:\\users\\darshilmodi\\appdata\\local\\packages\\pythonsoftwarefoundation.python.3.8_qbz5n2kfra8p0\\localcache\\local-packages\\python38\\site-packages)\n",
      "WARNING: Ignoring invalid distribution -umpy (c:\\users\\darshilmodi\\appdata\\local\\packages\\pythonsoftwarefoundation.python.3.8_qbz5n2kfra8p0\\localcache\\local-packages\\python38\\site-packages)\n"
     ]
    }
   ],
   "source": [
    "!pip install --upgrade degirum degirum_tools"
   ]
  },
  {
   "cell_type": "code",
   "execution_count": 1,
   "metadata": {},
   "outputs": [
    {
     "ename": "ImportError",
     "evalue": "cannot import name 'remote_assets' from 'degirum_tools' (C:\\Users\\DarshilModi\\AppData\\Local\\Packages\\PythonSoftwareFoundation.Python.3.8_qbz5n2kfra8p0\\LocalCache\\local-packages\\Python38\\site-packages\\degirum_tools\\__init__.py)",
     "output_type": "error",
     "traceback": [
      "\u001b[1;31m---------------------------------------------------------------------------\u001b[0m",
      "\u001b[1;31mImportError\u001b[0m                               Traceback (most recent call last)",
      "Cell \u001b[1;32mIn[1], line 3\u001b[0m\n\u001b[0;32m      1\u001b[0m \u001b[38;5;66;03m# import degirum and degirum_tools\u001b[39;00m\n\u001b[0;32m      2\u001b[0m \u001b[38;5;28;01mimport\u001b[39;00m \u001b[38;5;21;01mdegirum\u001b[39;00m \u001b[38;5;28;01mas\u001b[39;00m \u001b[38;5;21;01mdg\u001b[39;00m\u001b[38;5;241m,\u001b[39m \u001b[38;5;21;01mdegirum_tools\u001b[39;00m\n\u001b[1;32m----> 3\u001b[0m \u001b[38;5;28;01mfrom\u001b[39;00m \u001b[38;5;21;01mdegirum_tools\u001b[39;00m \u001b[38;5;28;01mimport\u001b[39;00m remote_assets\n\u001b[0;32m      5\u001b[0m inference_host_address \u001b[38;5;241m=\u001b[39m \u001b[38;5;124m\"\u001b[39m\u001b[38;5;124m@cloud\u001b[39m\u001b[38;5;124m\"\u001b[39m\n\u001b[0;32m      6\u001b[0m zoo_url \u001b[38;5;241m=\u001b[39m \u001b[38;5;124m'\u001b[39m\u001b[38;5;124mdegirum/hailo\u001b[39m\u001b[38;5;124m'\u001b[39m\n",
      "\u001b[1;31mImportError\u001b[0m: cannot import name 'remote_assets' from 'degirum_tools' (C:\\Users\\DarshilModi\\AppData\\Local\\Packages\\PythonSoftwareFoundation.Python.3.8_qbz5n2kfra8p0\\LocalCache\\local-packages\\Python38\\site-packages\\degirum_tools\\__init__.py)"
     ]
    }
   ],
   "source": [
    "# import degirum and degirum_tools\n",
    "import degirum as dg, degirum_tools\n",
    "from degirum_tools import remote_assets\n",
    "\n",
    "inference_host_address = \"@cloud\"\n",
    "zoo_url = 'degirum/hailo'\n",
    "token='dg_8PNGrkCskAPQooMPxoBRT8qBPSzac2cKoF2Qo'\n",
    "device_type='HAILORT/HAILO8L'\n",
    "\n",
    "# set model name, and image source\n",
    "model_name = \"yolov8n_coco--640x640_quant_hailort_multidevice_1\"\n",
    "image_source= remote_assets.three_persons\n",
    "\n",
    "# load AI model\n",
    "model = dg.load_model(\n",
    "    model_name=model_name,\n",
    "    inference_host_address=inference_host_address,\n",
    "    zoo_url=zoo_url,\n",
    "    token=token,\n",
    "    device_type=device_type,    \n",
    ")\n",
    "\n",
    "# perform AI model inference on given image source\n",
    "print(f\" Running inference using '{model_name}' on image source '{image_source}'\")\n",
    "inference_result = model(image_source)\n",
    "\n",
    "# print('Inference Results \\n', inference_result)  # numeric results\n",
    "print(inference_result)\n",
    "print(\"Press 'x' or 'q' to stop.\")\n",
    "\n",
    "# show results of inference\n",
    "with degirum_tools.Display(\"AI Camera\") as output_display:\n",
    "    output_display.show_image(inference_result.image_overlay)"
   ]
  },
  {
   "cell_type": "markdown",
   "metadata": {},
   "source": [
    "#### Running Inference on Video Stream\n",
    "- The `predict_stream` function in `degirum_tools` provides a powerful and efficient way to perform AI inference on video streams in real-time. It processes video frames sequentially and returns inference results frame by frame, enabling seamless integration with various video input sources.\n",
    "- The code below shows how to use `predict_stream` on a video file."
   ]
  },
  {
   "cell_type": "code",
   "execution_count": null,
   "metadata": {},
   "outputs": [],
   "source": [
    "import degirum as dg, degirum_tools\n",
    "\n",
    "inference_host_address = \"@local\"\n",
    "zoo_url = 'degirum/hailo'\n",
    "token=''\n",
    "device_type='HAILORT/HAILO8L'\n",
    "\n",
    "model_name = \"yolov8n_coco--640x640_quant_hailort_multidevice_1\"\n",
    "video_source = '../assets/Traffic.mp4'\n",
    "\n",
    "# load AI model\n",
    "model = dg.load_model(\n",
    "    model_name=model_name,\n",
    "    inference_host_address=inference_host_address,\n",
    "    zoo_url=zoo_url,\n",
    "    token=token,\n",
    "    device_type=device_type\n",
    ")\n",
    "\n",
    "with degirum_tools.Display(\"AI Camera\") as output_display:\n",
    "    for inference_result in degirum_tools.predict_stream(model, video_source):\n",
    "        output_display.show(inference_result)"
   ]
  },
  {
   "cell_type": "markdown",
   "metadata": {},
   "source": [
    "### Listing Models \n",
    "You can explore the models available using `degirum.list_models()` method."
   ]
  },
  {
   "cell_type": "code",
   "execution_count": null,
   "metadata": {},
   "outputs": [],
   "source": [
    "import degirum as dg, degirum_tools\n",
    "\n",
    "inference_host_address = \"@local\"\n",
    "zoo_url = 'degirum/hailo'\n",
    "token=''\n",
    "device_type=['HAILORT/HAILO8L']\n",
    "\n",
    "model_list=dg.list_models(\n",
    "    inference_host_address=inference_host_address,\n",
    "    zoo_url=zoo_url,\n",
    "    token=token,\n",
    "    device_type=device_type\n",
    ")\n",
    "for index, model_name in enumerate(model_list):\n",
    "    print(index, model_name)"
   ]
  },
  {
   "cell_type": "markdown",
   "metadata": {},
   "source": [
    "### Switch to local model zoo\n",
    "In this repo, we provide a `models` folder with a couple of example models. You can use the code block as a reference to run models from a local folder."
   ]
  },
  {
   "cell_type": "code",
   "execution_count": null,
   "metadata": {},
   "outputs": [],
   "source": [
    "import degirum as dg\n",
    "\n",
    "inference_host_address = \"@local\"\n",
    "zoo_url = '../models'\n",
    "token=''\n",
    "device_type='HAILORT/HAILO8L'\n",
    "\n",
    "model_list = dg.list_models(\n",
    "    inference_host_address=inference_host_address,\n",
    "    zoo_url=zoo_url,\n",
    "    token=token,\n",
    "    device_type=device_type \n",
    ")\n",
    "\n",
    "for model_name in model_list.keys():\n",
    "    print(model_name)"
   ]
  },
  {
   "cell_type": "code",
   "execution_count": null,
   "metadata": {},
   "outputs": [],
   "source": [
    "import degirum as dg, degirum_tools\n",
    "\n",
    "inference_host_address = \"@local\"\n",
    "zoo_url = '../models'\n",
    "token=''\n",
    "device_type='HAILORT/HAILO8L'\n",
    "\n",
    "# set model name, inference host address, zoo url, token, and image source\n",
    "model_name = \"yolov8n_coco--640x640_quant_hailort_multidevice_1\"\n",
    "image_source='../assets/ThreePersons.jpg'\n",
    "\n",
    "# load AI model\n",
    "model = dg.load_model(\n",
    "    model_name=model_name,\n",
    "    inference_host_address=inference_host_address,\n",
    "    zoo_url='../models',\n",
    "    token=token,\n",
    "    device_type=device_type\n",
    ")\n",
    "\n",
    "# perform AI model inference on given image source\n",
    "print(f\" Running inference using '{model_name}' on image source '{image_source}'\")\n",
    "inference_result = model(image_source)\n",
    "\n",
    "# print('Inference Results \\n', inference_result)  # numeric results\n",
    "print(inference_result)\n",
    "print(\"Press 'x' or 'q' to stop.\")\n",
    "\n",
    "# show results of inference\n",
    "with degirum_tools.Display(\"AI Camera\") as output_display:\n",
    "    output_display.show_image(inference_result)"
   ]
  }
 ],
 "metadata": {
  "kernelspec": {
   "display_name": "darshil_kernel",
   "language": "python",
   "name": "darshil_kernel"
  },
  "language_info": {
   "codemirror_mode": {
    "name": "ipython",
    "version": 3
   },
   "file_extension": ".py",
   "mimetype": "text/x-python",
   "name": "python",
   "nbconvert_exporter": "python",
   "pygments_lexer": "ipython3",
   "version": "3.8.10"
  }
 },
 "nbformat": 4,
 "nbformat_minor": 2
}
